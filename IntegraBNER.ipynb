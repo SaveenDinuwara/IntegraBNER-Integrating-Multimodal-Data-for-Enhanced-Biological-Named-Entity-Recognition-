{
 "metadata": {
  "kernelspec": {
   "language": "python",
   "display_name": "Python 3",
   "name": "python3"
  },
  "language_info": {
   "name": "python",
   "version": "3.10.12",
   "mimetype": "text/x-python",
   "codemirror_mode": {
    "name": "ipython",
    "version": 3
   },
   "pygments_lexer": "ipython3",
   "nbconvert_exporter": "python",
   "file_extension": ".py"
  },
  "kaggle": {
   "accelerator": "none",
   "dataSources": [
    {
     "sourceId": 951996,
     "sourceType": "datasetVersion",
     "datasetId": 516716
    },
    {
     "sourceId": 11223705,
     "sourceType": "datasetVersion",
     "datasetId": 7009688
    },
    {
     "sourceId": 11336430,
     "sourceType": "datasetVersion",
     "datasetId": 7091557
    },
    {
     "sourceId": 316526,
     "sourceType": "modelInstanceVersion",
     "isSourceIdPinned": false,
     "modelInstanceId": 267124,
     "modelId": 288184
    },
    {
     "sourceId": 317481,
     "sourceType": "modelInstanceVersion",
     "isSourceIdPinned": true,
     "modelInstanceId": 267875,
     "modelId": 288905
    }
   ],
   "dockerImageVersionId": 30918,
   "isInternetEnabled": true,
   "language": "python",
   "sourceType": "notebook",
   "isGpuEnabled": false
  }
 },
 "nbformat_minor": 4,
 "nbformat": 4,
 "cells": [
  {
   "cell_type": "code",
   "source": [
    "!pip install gradio --quiet"
   ],
   "metadata": {
    "_uuid": "cbf9444d-7b1e-4a8d-a24c-2fcd0b6c7aad",
    "_cell_guid": "12f3db82-61c0-4b15-978c-f068113fafb6",
    "trusted": true,
    "collapsed": false,
    "execution": {
     "iopub.status.busy": "2025-04-06T10:17:12.123963Z",
     "iopub.execute_input": "2025-04-06T10:17:12.124188Z",
     "iopub.status.idle": "2025-04-06T10:17:24.250594Z",
     "shell.execute_reply.started": "2025-04-06T10:17:12.124166Z",
     "shell.execute_reply": "2025-04-06T10:17:24.249738Z"
    }
   },
   "outputs": [
    {
     "name": "stdout",
     "text": "\u001B[2K   \u001B[90m━━━━━━━━━━━━━━━━━━━━━━━━━━━━━━━━━━━━━━━━\u001B[0m \u001B[32m46.5/46.5 MB\u001B[0m \u001B[31m34.4 MB/s\u001B[0m eta \u001B[36m0:00:00\u001B[0m:00:01\u001B[0m00:01\u001B[0m\n\u001B[2K   \u001B[90m━━━━━━━━━━━━━━━━━━━━━━━━━━━━━━━━━━━━━━━━\u001B[0m \u001B[32m322.2/322.2 kB\u001B[0m \u001B[31m18.3 MB/s\u001B[0m eta \u001B[36m0:00:00\u001B[0m\n\u001B[2K   \u001B[90m━━━━━━━━━━━━━━━━━━━━━━━━━━━━━━━━━━━━━━━━\u001B[0m \u001B[32m95.2/95.2 kB\u001B[0m \u001B[31m7.5 MB/s\u001B[0m eta \u001B[36m0:00:00\u001B[0m\n\u001B[2K   \u001B[90m━━━━━━━━━━━━━━━━━━━━━━━━━━━━━━━━━━━━━━━━\u001B[0m \u001B[32m11.3/11.3 MB\u001B[0m \u001B[31m83.1 MB/s\u001B[0m eta \u001B[36m0:00:00\u001B[0m:00:01\u001B[0m0:01\u001B[0m\n\u001B[2K   \u001B[90m━━━━━━━━━━━━━━━━━━━━━━━━━━━━━━━━━━━━━━━━\u001B[0m \u001B[32m72.0/72.0 kB\u001B[0m \u001B[31m5.1 MB/s\u001B[0m eta \u001B[36m0:00:00\u001B[0m\n\u001B[2K   \u001B[90m━━━━━━━━━━━━━━━━━━━━━━━━━━━━━━━━━━━━━━━━\u001B[0m \u001B[32m62.3/62.3 kB\u001B[0m \u001B[31m3.9 MB/s\u001B[0m eta \u001B[36m0:00:00\u001B[0m\n\u001B[?25h",
     "output_type": "stream"
    }
   ],
   "execution_count": 1
  },
  {
   "cell_type": "code",
   "source": [
    "!pip install traceback"
   ],
   "metadata": {
    "trusted": true,
    "execution": {
     "iopub.status.busy": "2025-04-06T13:40:12.644731Z",
     "iopub.execute_input": "2025-04-06T13:40:12.645036Z",
     "iopub.status.idle": "2025-04-06T13:40:13.744382Z",
     "shell.execute_reply.started": "2025-04-06T13:40:12.645006Z",
     "shell.execute_reply": "2025-04-06T13:40:13.743339Z"
    }
   },
   "outputs": [
    {
     "name": "stdout",
     "text": "\u001B[31mERROR: Could not find a version that satisfies the requirement traceback (from versions: none)\u001B[0m\u001B[31m\n\u001B[0m\u001B[31mERROR: No matching distribution found for traceback\u001B[0m\u001B[31m\n\u001B[0m",
     "output_type": "stream"
    }
   ],
   "execution_count": 54
  },
  {
   "cell_type": "code",
   "source": [
    "# Install required packages\n",
    "!pip install -q transformers timm openpyxl\n",
    "\n",
    "#  GPU Check\n",
    "import torch\n",
    "\n",
    "print(\"GPU Available:\", torch.cuda.is_available())\n",
    "DEVICE = torch.device(\"cuda\" if torch.cuda.is_available() else \"cpu\")\n",
    "\n",
    "torch.backends.cudnn.benchmark = True\n"
   ],
   "metadata": {
    "_uuid": "ec98e9e9-1979-4ae4-aa84-be8134b7c0d5",
    "_cell_guid": "7884d994-770c-4522-81c4-5ba89a711900",
    "trusted": true,
    "collapsed": false,
    "execution": {
     "iopub.status.busy": "2025-04-12T19:50:12.430773Z",
     "iopub.execute_input": "2025-04-12T19:50:12.431052Z",
     "iopub.status.idle": "2025-04-12T19:50:23.052094Z",
     "shell.execute_reply.started": "2025-04-12T19:50:12.431028Z",
     "shell.execute_reply": "2025-04-12T19:50:23.050651Z"
    }
   },
   "outputs": [
    {
     "name": "stdout",
     "text": "✅ GPU Available: False\n",
     "output_type": "stream"
    }
   ],
   "execution_count": 1
  },
  {
   "cell_type": "code",
   "source": [
    "import pandas as pd\n",
    "\n",
    "# Load your vocabulary Excel file from Kaggle dataset\n",
    "excel_path = \"/kaggle/input/open-i-radiology-vocabulary/radiology_vocabulary_final (1).xlsx\"\n",
    "syn_df = pd.read_excel(excel_path, sheet_name=\"synonyms\")\n",
    "\n",
    "syn_df = syn_df[syn_df['Type'].isin(['A', 'D', 'S'])]\n",
    "\n",
    "synonyms_dict = {}\n",
    "for _, row in syn_df.iterrows():\n",
    "    term = str(row.get(\"Term\", \"\")).strip().lower()\n",
    "    if not term: continue\n",
    "    syn_list = [term]\n",
    "    for col in syn_df.columns:\n",
    "        if \"Synonym\" in col:\n",
    "            val = row.get(col)\n",
    "            if pd.notna(val):\n",
    "                syn_list += [s.strip().lower() for s in str(val).split(\";\") if s.strip()]\n",
    "    synonyms_dict[term] = list(set(syn_list))\n",
    "\n",
    "all_terms = sorted(synonyms_dict.keys())\n",
    "term_to_idx = {term: i for i, term in enumerate(all_terms)}\n",
    "num_labels = len(all_terms)\n",
    "\n",
    "print(\"Dictionary terms:\", len(synonyms_dict))\n",
    "print(\"Example:\", list(synonyms_dict.items())[:5])"
   ],
   "metadata": {
    "_uuid": "ead26dca-55a5-4bf3-9b2b-23b38310bf9e",
    "_cell_guid": "738b69d1-6486-4da2-bc72-067e9c36e9b5",
    "trusted": true,
    "collapsed": false,
    "execution": {
     "iopub.status.busy": "2025-04-12T19:50:23.057077Z",
     "iopub.execute_input": "2025-04-12T19:50:23.057493Z",
     "iopub.status.idle": "2025-04-12T19:50:24.311304Z",
     "shell.execute_reply.started": "2025-04-12T19:50:23.057450Z",
     "shell.execute_reply": "2025-04-12T19:50:24.310107Z"
    }
   },
   "outputs": [
    {
     "name": "stdout",
     "text": "✅ Dictionary terms: 126\n🔍 Example: [('abdomen', ['abdomen']), ('adipose tissue', ['localised obesity', 'lipohyperplasia', 'fat pads', 'fatty tissue hyperplasia', 'localized fat', 'adipose tissue', 'adiposis', 'localised adiposity', 'localized']), ('aorta', ['aortic structure', 'aorta', 'aortic']), ('aorta, thoracic', ['thoracic aorta', 'aorta, thoracic']), ('aortic valve', ['aortic valve'])]\n",
     "output_type": "stream"
    }
   ],
   "execution_count": 2
  },
  {
   "cell_type": "code",
   "source": [
    "syn_df.head()\n"
   ],
   "metadata": {
    "trusted": true,
    "execution": {
     "iopub.status.busy": "2025-04-12T19:55:04.338789Z",
     "iopub.execute_input": "2025-04-12T19:55:04.339255Z",
     "iopub.status.idle": "2025-04-12T19:55:04.369810Z",
     "shell.execute_reply.started": "2025-04-12T19:55:04.339213Z",
     "shell.execute_reply": "2025-04-12T19:55:04.368437Z"
    }
   },
   "outputs": [
    {
     "execution_count": 6,
     "output_type": "execute_result",
     "data": {
      "text/plain": "              Term Type Attribute Type              Synonym  \\\n0          Abdomen    A            NaN                  NaN   \n1   Adipose Tissue    A            NaN  adiposis; localized   \n2            Aorta    A            NaN               aortic   \n3  Aorta, Thoracic    A            NaN       thoracic aorta   \n4     Aortic Valve    A            NaN                  NaN   \n\n                  Synonym.1      Synonym.2        Synonym.3  \\\n0                       NaN            NaN              NaN   \n1  fatty tissue hyperplasia  localized fat  lipohyperplasia   \n2          aortic structure            NaN              NaN   \n3                       NaN            NaN              NaN   \n4                       NaN            NaN              NaN   \n\n             Synonym.4          Synonym.5 Synonym.6 Synonym.7 Synonym.8  \\\n0                  NaN                NaN       NaN       NaN       NaN   \n1  localised adiposity  localised obesity  fat pads       NaN       NaN   \n2                  NaN                NaN       NaN       NaN       NaN   \n3                  NaN                NaN       NaN       NaN       NaN   \n4                  NaN                NaN       NaN       NaN       NaN   \n\n  Synonym.9 Synonym.10  \n0       NaN        NaN  \n1       NaN        NaN  \n2       NaN        NaN  \n3       NaN        NaN  \n4       NaN        NaN  ",
      "text/html": "<div>\n<style scoped>\n    .dataframe tbody tr th:only-of-type {\n        vertical-align: middle;\n    }\n\n    .dataframe tbody tr th {\n        vertical-align: top;\n    }\n\n    .dataframe thead th {\n        text-align: right;\n    }\n</style>\n<table border=\"1\" class=\"dataframe\">\n  <thead>\n    <tr style=\"text-align: right;\">\n      <th></th>\n      <th>Term</th>\n      <th>Type</th>\n      <th>Attribute Type</th>\n      <th>Synonym</th>\n      <th>Synonym.1</th>\n      <th>Synonym.2</th>\n      <th>Synonym.3</th>\n      <th>Synonym.4</th>\n      <th>Synonym.5</th>\n      <th>Synonym.6</th>\n      <th>Synonym.7</th>\n      <th>Synonym.8</th>\n      <th>Synonym.9</th>\n      <th>Synonym.10</th>\n    </tr>\n  </thead>\n  <tbody>\n    <tr>\n      <th>0</th>\n      <td>Abdomen</td>\n      <td>A</td>\n      <td>NaN</td>\n      <td>NaN</td>\n      <td>NaN</td>\n      <td>NaN</td>\n      <td>NaN</td>\n      <td>NaN</td>\n      <td>NaN</td>\n      <td>NaN</td>\n      <td>NaN</td>\n      <td>NaN</td>\n      <td>NaN</td>\n      <td>NaN</td>\n    </tr>\n    <tr>\n      <th>1</th>\n      <td>Adipose Tissue</td>\n      <td>A</td>\n      <td>NaN</td>\n      <td>adiposis; localized</td>\n      <td>fatty tissue hyperplasia</td>\n      <td>localized fat</td>\n      <td>lipohyperplasia</td>\n      <td>localised adiposity</td>\n      <td>localised obesity</td>\n      <td>fat pads</td>\n      <td>NaN</td>\n      <td>NaN</td>\n      <td>NaN</td>\n      <td>NaN</td>\n    </tr>\n    <tr>\n      <th>2</th>\n      <td>Aorta</td>\n      <td>A</td>\n      <td>NaN</td>\n      <td>aortic</td>\n      <td>aortic structure</td>\n      <td>NaN</td>\n      <td>NaN</td>\n      <td>NaN</td>\n      <td>NaN</td>\n      <td>NaN</td>\n      <td>NaN</td>\n      <td>NaN</td>\n      <td>NaN</td>\n      <td>NaN</td>\n    </tr>\n    <tr>\n      <th>3</th>\n      <td>Aorta, Thoracic</td>\n      <td>A</td>\n      <td>NaN</td>\n      <td>thoracic aorta</td>\n      <td>NaN</td>\n      <td>NaN</td>\n      <td>NaN</td>\n      <td>NaN</td>\n      <td>NaN</td>\n      <td>NaN</td>\n      <td>NaN</td>\n      <td>NaN</td>\n      <td>NaN</td>\n      <td>NaN</td>\n    </tr>\n    <tr>\n      <th>4</th>\n      <td>Aortic Valve</td>\n      <td>A</td>\n      <td>NaN</td>\n      <td>NaN</td>\n      <td>NaN</td>\n      <td>NaN</td>\n      <td>NaN</td>\n      <td>NaN</td>\n      <td>NaN</td>\n      <td>NaN</td>\n      <td>NaN</td>\n      <td>NaN</td>\n      <td>NaN</td>\n      <td>NaN</td>\n    </tr>\n  </tbody>\n</table>\n</div>"
     },
     "metadata": {}
    }
   ],
   "execution_count": 6
  },
  {
   "cell_type": "code",
   "source": [
    "import os\n",
    "\n",
    "# Paths\n",
    "base_dir = \"/kaggle/input/chest-xrays-indiana-university\"\n",
    "img_dir = os.path.join(base_dir, \"images/images_normalized\")\n",
    "\n",
    "# Load projections and reports\n",
    "proj_df = pd.read_csv(os.path.join(base_dir, \"indiana_projections.csv\"))\n",
    "rep_df = pd.read_csv(os.path.join(base_dir, \"indiana_reports.csv\"))\n",
    "\n",
    "# Handle duplicates\n",
    "proj_df_clean = proj_df.sort_values(\"filename\").drop_duplicates(subset=[\"uid\", \"projection\"], keep=\"first\")\n",
    "print(len(proj_df_clean))\n",
    "\n",
    "# Pivot to get frontal + lateral columns\n",
    "proj_pivot = proj_df_clean.pivot(index=\"uid\", columns=\"projection\", values=\"filename\").reset_index()\n",
    "proj_pivot.columns.name = None\n",
    "proj_pivot = proj_pivot.rename(columns={\"Frontal\": \"img_frontal\", \"Lateral\": \"img_lateral\"})\n",
    "print(len(proj_pivot))\n",
    "\n",
    "# Merge metadata\n",
    "df = pd.merge(rep_df, proj_pivot, on=\"uid\", how=\"inner\")\n",
    "print(len(df))\n",
    "\n",
    "# Add full paths\n",
    "df[\"img_frontal\"] = df[\"img_frontal\"].apply(lambda x: os.path.join(img_dir, x) if pd.notna(x) else None)\n",
    "df[\"img_lateral\"] = df[\"img_lateral\"].apply(lambda x: os.path.join(img_dir, x) if pd.notna(x) else None)\n",
    "print(len(df))\n",
    "\n",
    "# Combine findings and impression\n",
    "df[\"text\"] = df[\"findings\"].fillna('') + \" \" + df[\"impression\"].fillna('')\n",
    "# Keep samples with at least one image\n",
    "df = df[df[\"img_frontal\"].notna() | df[\"img_lateral\"].notna()]\n",
    "df = df[df[\"text\"].str.strip() != \"\"]\n",
    "\n",
    "print(\" Final dataset shape:\", df.shape)\n",
    "print(df.head())"
   ],
   "metadata": {
    "_uuid": "0a73c3af-1bae-4e6c-a9d7-162db60dde23",
    "_cell_guid": "26966ec6-1e82-4983-91e5-edc6e4efdb57",
    "trusted": true,
    "collapsed": false,
    "execution": {
     "iopub.status.busy": "2025-04-06T10:17:44.059319Z",
     "iopub.execute_input": "2025-04-06T10:17:44.059636Z",
     "iopub.status.idle": "2025-04-06T10:17:44.208350Z",
     "shell.execute_reply.started": "2025-04-06T10:17:44.059615Z",
     "shell.execute_reply": "2025-04-06T10:17:44.207390Z"
    }
   },
   "outputs": [
    {
     "name": "stdout",
     "text": "7239\n3851\n3851\n3851\n✅ Final dataset shape: (3826, 11)\n   uid                                               MeSH  \\\n0    1                                             normal   \n1    2  Cardiomegaly/borderline;Pulmonary Artery/enlarged   \n2    3                                             normal   \n3    4  Pulmonary Disease, Chronic Obstructive;Bullous...   \n4    5  Osteophyte/thoracic vertebrae/multiple/small;T...   \n\n                                            Problems  \\\n0                                             normal   \n1                      Cardiomegaly;Pulmonary Artery   \n2                                             normal   \n3  Pulmonary Disease, Chronic Obstructive;Bullous...   \n4                         Osteophyte;Thickening;Lung   \n\n                                               image  \\\n0                          Xray Chest PA and Lateral   \n1                Chest, 2 views, frontal and lateral   \n2                          Xray Chest PA and Lateral   \n3  PA and lateral views of the chest XXXX, XXXX a...   \n4                          Xray Chest PA and Lateral   \n\n                                          indication      comparison  \\\n0                                   Positive TB test           None.   \n1                           Preop bariatric surgery.           None.   \n2  rib pain after a XXXX, XXXX XXXX steps this XX...             NaN   \n3                      XXXX-year-old XXXX with XXXX.  None available   \n4                        Chest and nasal congestion.             NaN   \n\n                                            findings  \\\n0  The cardiac silhouette and mediastinum size ar...   \n1  Borderline cardiomegaly. Midline sternotomy XX...   \n2                                                NaN   \n3  There are diffuse bilateral interstitial and a...   \n4  The cardiomediastinal silhouette and pulmonary...   \n\n                                          impression  \\\n0                               Normal chest x-XXXX.   \n1                       No acute pulmonary findings.   \n2  No displaced rib fractures, pneumothorax, or p...   \n3  1. Bullous emphysema and interstitial fibrosis...   \n4              No acute cardiopulmonary abnormality.   \n\n                                         img_frontal  \\\n0  /kaggle/input/chest-xrays-indiana-university/i...   \n1  /kaggle/input/chest-xrays-indiana-university/i...   \n2  /kaggle/input/chest-xrays-indiana-university/i...   \n3  /kaggle/input/chest-xrays-indiana-university/i...   \n4  /kaggle/input/chest-xrays-indiana-university/i...   \n\n                                         img_lateral  \\\n0  /kaggle/input/chest-xrays-indiana-university/i...   \n1  /kaggle/input/chest-xrays-indiana-university/i...   \n2  /kaggle/input/chest-xrays-indiana-university/i...   \n3  /kaggle/input/chest-xrays-indiana-university/i...   \n4  /kaggle/input/chest-xrays-indiana-university/i...   \n\n                                                text  \n0  The cardiac silhouette and mediastinum size ar...  \n1  Borderline cardiomegaly. Midline sternotomy XX...  \n2   No displaced rib fractures, pneumothorax, or ...  \n3  There are diffuse bilateral interstitial and a...  \n4  The cardiomediastinal silhouette and pulmonary...  \n",
     "output_type": "stream"
    }
   ],
   "execution_count": 4
  },
  {
   "cell_type": "code",
   "source": [
    "print(\"Total with at least one image:\", df.shape[0])\n",
    "print(\"Samples with only frontal:\", df[(df[\"img_frontal\"].notna()) & (df[\"img_lateral\"].isna())].shape[0])\n",
    "print(\"Samples with only lateral:\", df[(df[\"img_frontal\"].isna()) & (df[\"img_lateral\"].notna())].shape[0])\n",
    "print(\"Samples with both:\", df[(df[\"img_frontal\"].notna()) & (df[\"img_lateral\"].notna())].shape[0])\n",
    "print(\"📊 Unique UIDs in report file:\", rep_df[\"uid\"].nunique())\n",
    "\n"
   ],
   "metadata": {
    "trusted": true,
    "execution": {
     "iopub.status.busy": "2025-04-06T10:17:44.209699Z",
     "iopub.execute_input": "2025-04-06T10:17:44.210019Z",
     "iopub.status.idle": "2025-04-06T10:17:44.223819Z",
     "shell.execute_reply.started": "2025-04-06T10:17:44.209994Z",
     "shell.execute_reply": "2025-04-06T10:17:44.222859Z"
    }
   },
   "outputs": [
    {
     "name": "stdout",
     "text": "Total with at least one image: 3826\nSamples with only frontal: 290\nSamples with only lateral: 160\nSamples with both: 3376\n📊 Unique UIDs in report file: 3851\n",
     "output_type": "stream"
    }
   ],
   "execution_count": 5
  },
  {
   "cell_type": "code",
   "source": [
    "len(df)\n"
   ],
   "metadata": {
    "trusted": true,
    "execution": {
     "iopub.status.busy": "2025-04-06T10:17:44.224858Z",
     "iopub.execute_input": "2025-04-06T10:17:44.225125Z",
     "iopub.status.idle": "2025-04-06T10:17:44.230412Z",
     "shell.execute_reply.started": "2025-04-06T10:17:44.225103Z",
     "shell.execute_reply": "2025-04-06T10:17:44.229637Z"
    }
   },
   "outputs": [
    {
     "execution_count": 6,
     "output_type": "execute_result",
     "data": {
      "text/plain": "3826"
     },
     "metadata": {}
    }
   ],
   "execution_count": 6
  },
  {
   "cell_type": "code",
   "source": [
    "from transformers import pipeline\n",
    "\n",
    "\n",
    "biobert_1 = pipeline(\n",
    "    \"ner\",\n",
    "    model=\"alvaroalon2/biobert_diseases_ner\",  # you can also try alvaroalon2/biobert_diseases_ner\n",
    "    tokenizer=\"alvaroalon2/biobert_diseases_ner\",\n",
    "    aggregation_strategy=\"simple\",\n",
    "    device=0  # if using GPU\n",
    ")\n"
   ],
   "metadata": {
    "_uuid": "1e7f176c-c49b-4cfc-83e4-cf4a822f0c39",
    "_cell_guid": "b12a3bd4-dde1-4ae1-9140-eb2d70d1d469",
    "trusted": true,
    "collapsed": false,
    "execution": {
     "iopub.status.busy": "2025-04-06T10:17:44.231392Z",
     "iopub.execute_input": "2025-04-06T10:17:44.231734Z",
     "iopub.status.idle": "2025-04-06T10:18:10.487432Z",
     "shell.execute_reply.started": "2025-04-06T10:17:44.231701Z",
     "shell.execute_reply": "2025-04-06T10:18:10.485171Z"
    }
   },
   "outputs": [
    {
     "output_type": "display_data",
     "data": {
      "text/plain": "config.json:   0%|          | 0.00/746 [00:00<?, ?B/s]",
      "application/vnd.jupyter.widget-view+json": {
       "version_major": 2,
       "version_minor": 0,
       "model_id": "01269de699da4900bc471e242eda5a1b"
      }
     },
     "metadata": {}
    },
    {
     "output_type": "display_data",
     "data": {
      "text/plain": "pytorch_model.bin:   0%|          | 0.00/431M [00:00<?, ?B/s]",
      "application/vnd.jupyter.widget-view+json": {
       "version_major": 2,
       "version_minor": 0,
       "model_id": "da9560adf1484d86aadec576309dc1e2"
      }
     },
     "metadata": {}
    },
    {
     "output_type": "display_data",
     "data": {
      "text/plain": "tokenizer_config.json:   0%|          | 0.00/59.0 [00:00<?, ?B/s]",
      "application/vnd.jupyter.widget-view+json": {
       "version_major": 2,
       "version_minor": 0,
       "model_id": "87bff924d0b14494a023a7d4aaa85e09"
      }
     },
     "metadata": {}
    },
    {
     "output_type": "display_data",
     "data": {
      "text/plain": "vocab.txt:   0%|          | 0.00/213k [00:00<?, ?B/s]",
      "application/vnd.jupyter.widget-view+json": {
       "version_major": 2,
       "version_minor": 0,
       "model_id": "0012239076a24dfa94da31e4a7774a73"
      }
     },
     "metadata": {}
    },
    {
     "output_type": "display_data",
     "data": {
      "text/plain": "special_tokens_map.json:   0%|          | 0.00/112 [00:00<?, ?B/s]",
      "application/vnd.jupyter.widget-view+json": {
       "version_major": 2,
       "version_minor": 0,
       "model_id": "93633660620f402197d9f3f6627137c5"
      }
     },
     "metadata": {}
    },
    {
     "name": "stderr",
     "text": "Device set to use cuda:0\n",
     "output_type": "stream"
    }
   ],
   "execution_count": 7
  },
  {
   "cell_type": "code",
   "source": [
    "biobert_2 = pipeline(\n",
    "    \"ner\",\n",
    "    model=\"judithrosell/BC5CDR_bioBERT_NER\",  # you can also try alvaroalon2/biobert_diseases_ner\n",
    "    tokenizer=\"judithrosell/BC5CDR_bioBERT_NER\",\n",
    "    aggregation_strategy=\"simple\",\n",
    "    device=0  # if using GPU\n",
    ")\n"
   ],
   "metadata": {
    "trusted": true,
    "execution": {
     "iopub.status.busy": "2025-04-06T10:18:10.489038Z",
     "iopub.execute_input": "2025-04-06T10:18:10.490943Z",
     "iopub.status.idle": "2025-04-06T10:18:15.019547Z",
     "shell.execute_reply.started": "2025-04-06T10:18:10.490912Z",
     "shell.execute_reply": "2025-04-06T10:18:15.018875Z"
    }
   },
   "outputs": [
    {
     "output_type": "display_data",
     "data": {
      "text/plain": "config.json:   0%|          | 0.00/917 [00:00<?, ?B/s]",
      "application/vnd.jupyter.widget-view+json": {
       "version_major": 2,
       "version_minor": 0,
       "model_id": "f58912d012564ec9b6924ed440a779b0"
      }
     },
     "metadata": {}
    },
    {
     "output_type": "display_data",
     "data": {
      "text/plain": "model.safetensors:   0%|          | 0.00/431M [00:00<?, ?B/s]",
      "application/vnd.jupyter.widget-view+json": {
       "version_major": 2,
       "version_minor": 0,
       "model_id": "11ef9ed0b227493e966f9a8d5a012c17"
      }
     },
     "metadata": {}
    },
    {
     "output_type": "display_data",
     "data": {
      "text/plain": "tokenizer_config.json:   0%|          | 0.00/1.24k [00:00<?, ?B/s]",
      "application/vnd.jupyter.widget-view+json": {
       "version_major": 2,
       "version_minor": 0,
       "model_id": "84d7109ac649434598e4428ce98ecbf2"
      }
     },
     "metadata": {}
    },
    {
     "output_type": "display_data",
     "data": {
      "text/plain": "vocab.txt:   0%|          | 0.00/213k [00:00<?, ?B/s]",
      "application/vnd.jupyter.widget-view+json": {
       "version_major": 2,
       "version_minor": 0,
       "model_id": "7d90e066ab0b4fe795990685b01408e9"
      }
     },
     "metadata": {}
    },
    {
     "output_type": "display_data",
     "data": {
      "text/plain": "tokenizer.json:   0%|          | 0.00/669k [00:00<?, ?B/s]",
      "application/vnd.jupyter.widget-view+json": {
       "version_major": 2,
       "version_minor": 0,
       "model_id": "1106a412931848638972fa1fe1c19775"
      }
     },
     "metadata": {}
    },
    {
     "output_type": "display_data",
     "data": {
      "text/plain": "special_tokens_map.json:   0%|          | 0.00/125 [00:00<?, ?B/s]",
      "application/vnd.jupyter.widget-view+json": {
       "version_major": 2,
       "version_minor": 0,
       "model_id": "a9245ff79c6d4b5fa1f7a9c30b6d49d6"
      }
     },
     "metadata": {}
    },
    {
     "name": "stderr",
     "text": "Device set to use cuda:0\n",
     "output_type": "stream"
    }
   ],
   "execution_count": 8
  },
  {
   "cell_type": "code",
   "source": [
    "import numpy as np\n",
    "from tqdm import tqdm\n",
    "\n",
    "\n",
    "def batch_hybrid_labeler_with_sources(texts, synonyms_dict, term_to_idx,\n",
    "                                      biobert1=None, biobert2=None,\n",
    "                                      batch_size=64):\n",
    "    import numpy as np\n",
    "    from tqdm import tqdm\n",
    "\n",
    "    all_vectors = []\n",
    "    all_sources = []\n",
    "    total = len(texts)\n",
    "\n",
    "    for i in tqdm(range(0, total, batch_size), desc=\"⚙️ Labeling with source tracking\"):\n",
    "        batch = texts[i:i+batch_size]\n",
    "        vecs = np.zeros((len(batch), len(term_to_idx)), dtype=np.float32)\n",
    "        sources = np.zeros((len(batch), len(term_to_idx)), dtype=np.int32)\n",
    "\n",
    "        # Step 1: Dictionary Matching\n",
    "        for j, text in enumerate(batch):\n",
    "            if not isinstance(text, str): continue\n",
    "            lower = text.lower()\n",
    "            for term, syns in synonyms_dict.items():\n",
    "                idx = term_to_idx[term]\n",
    "                if term in lower or any(s in lower for s in syns):\n",
    "                    vecs[j, idx] = 1\n",
    "                    sources[j, idx] = 1  # 1 = Dictionary\n",
    "\n",
    "        # Step 2a: BioBERT 1\n",
    "        if biobert1:\n",
    "            try:\n",
    "                ner1 = biobert1(batch)\n",
    "                for j, ents in enumerate(ner1):\n",
    "                    for ent in ents:\n",
    "                        word = ent['word'].lower().strip('#')\n",
    "                        idx = term_to_idx.get(word)\n",
    "                        if idx is not None:\n",
    "                            vecs[j, idx] = 1\n",
    "                            sources[j, idx] = 2  # 2 = BioBERT 1\n",
    "            except Exception as e:\n",
    "                print(\"BioBERT 1 failed:\", e)\n",
    "\n",
    "        # Step 2b: BioBERT 2\n",
    "        if biobert2:\n",
    "            try:\n",
    "                ner2 = biobert2(batch)\n",
    "                for j, ents in enumerate(ner2):\n",
    "                    for ent in ents:\n",
    "                        word = ent['word'].lower().strip('#')\n",
    "                        idx = term_to_idx.get(word)\n",
    "                        if idx is not None:\n",
    "                            vecs[j, idx] = 1\n",
    "                            sources[j, idx] = 4  # 4 = BioBERT 2\n",
    "            except Exception as e:\n",
    "                print(\"BioBERT 2 failed:\", e)\n",
    "\n",
    "        \n",
    "        all_vectors.append(vecs)\n",
    "        all_sources.append(sources)\n",
    "\n",
    "    return np.vstack(all_vectors), np.vstack(all_sources)\n",
    "\n"
   ],
   "metadata": {
    "_uuid": "63f392bd-b73c-4576-b23a-876144d63393",
    "_cell_guid": "4cfd3a53-a95f-44c6-a1f4-ac9954b9dbdd",
    "trusted": true,
    "collapsed": false,
    "execution": {
     "iopub.status.busy": "2025-04-06T10:18:25.377444Z",
     "iopub.execute_input": "2025-04-06T10:18:25.377700Z",
     "iopub.status.idle": "2025-04-06T10:18:25.391253Z",
     "shell.execute_reply.started": "2025-04-06T10:18:25.377679Z",
     "shell.execute_reply": "2025-04-06T10:18:25.390483Z"
    }
   },
   "outputs": [],
   "execution_count": 14
  },
  {
   "cell_type": "code",
   "source": [
    "auto_labels, label_sources = batch_hybrid_labeler_with_sources(\n",
    "    texts=df[\"text\"].tolist(),\n",
    "    synonyms_dict=synonyms_dict,\n",
    "    term_to_idx=term_to_idx,\n",
    "    biobert1=biobert_1,\n",
    "    biobert2=biobert_2,\n",
    "    llm=llm\n",
    ")\n",
    "\n",
    "\n",
    "df[\"auto_labels\"] = list(auto_labels)\n"
   ],
   "metadata": {
    "_uuid": "606d1d44-5249-4863-924a-5465fbfe997c",
    "_cell_guid": "c3dc387b-8f39-46f1-9155-155dd4c41e5f",
    "trusted": true,
    "collapsed": false,
    "execution": {
     "iopub.status.busy": "2025-04-06T10:18:25.392157Z",
     "iopub.execute_input": "2025-04-06T10:18:25.392417Z",
     "iopub.status.idle": "2025-04-06T10:20:10.412304Z",
     "shell.execute_reply.started": "2025-04-06T10:18:25.392381Z",
     "shell.execute_reply": "2025-04-06T10:20:10.411526Z"
    }
   },
   "outputs": [
    {
     "name": "stderr",
     "text": "⚙️ Labeling with source tracking:  17%|█▋        | 10/60 [00:17<01:24,  1.68s/it]You seem to be using the pipelines sequentially on GPU. In order to maximize efficiency please use a dataset\n⚙️ Labeling with source tracking: 100%|██████████| 60/60 [01:44<00:00,  1.75s/it]\n",
     "output_type": "stream"
    }
   ],
   "execution_count": 15
  },
  {
   "cell_type": "code",
   "source": [
    "flat = label_sources.flatten()\n",
    "counts = {\n",
    "    'Not Labeled (0)': int(np.sum(flat == 0)),\n",
    "    'Dictionary (1)': int(np.sum(flat == 1)),\n",
    "    'BioBERT 1 (2)': int(np.sum(flat == 2)),\n",
    "    # 'LLM (3)': int(np.sum(flat == 3)),\n",
    "    'BioBERT 2 (4)': int(np.sum(flat == 4)),\n",
    "    'BioBERT Combined (2 or 4)': int(np.sum((flat == 2) | (flat == 4)))\n",
    "}\n",
    "print(counts)"
   ],
   "metadata": {
    "trusted": true,
    "execution": {
     "iopub.status.busy": "2025-04-06T10:20:10.413154Z",
     "iopub.execute_input": "2025-04-06T10:20:10.413386Z",
     "iopub.status.idle": "2025-04-06T10:20:10.430028Z",
     "shell.execute_reply.started": "2025-04-06T10:20:10.413366Z",
     "shell.execute_reply": "2025-04-06T10:20:10.429144Z"
    }
   },
   "outputs": [
    {
     "name": "stdout",
     "text": "{'Not Labeled (0)': 448022, 'Dictionary (1)': 28771, 'BioBERT 1 (2)': 576, 'LLM (3)': 0, 'BioBERT 2 (4)': 4707, 'BioBERT Combined (2 or 4)': 5283}\n",
     "output_type": "stream"
    }
   ],
   "execution_count": 16
  },
  {
   "cell_type": "code",
   "source": [
    "len(df)"
   ],
   "metadata": {
    "trusted": true,
    "execution": {
     "iopub.status.busy": "2025-04-06T10:20:10.431032Z",
     "iopub.execute_input": "2025-04-06T10:20:10.431327Z",
     "iopub.status.idle": "2025-04-06T10:20:10.436451Z",
     "shell.execute_reply.started": "2025-04-06T10:20:10.431305Z",
     "shell.execute_reply": "2025-04-06T10:20:10.435488Z"
    }
   },
   "outputs": [
    {
     "execution_count": 17,
     "output_type": "execute_result",
     "data": {
      "text/plain": "3826"
     },
     "metadata": {}
    }
   ],
   "execution_count": 17
  },
  {
   "cell_type": "code",
   "source": [
    "# Save DataFrame as CSV\n",
    "import numpy as np\n",
    "import pandas as pd\n",
    "\n",
    "# Save dataset (CSV with all columns, incl. paths, text)\n",
    "df.to_csv(\"final_dataset.csv\", index=False)\n",
    "\n",
    "# Save multi-hot labels and sources as .npz\n",
    "np.savez_compressed(\"label_vectors.npz\", auto_labels=auto_labels, label_sources=label_sources)\n",
    "\n",
    "# Save the term index mapping as CSV\n",
    "term_df = pd.DataFrame(list(term_to_idx.items()), columns=[\"term\", \"index\"])\n",
    "term_df.to_csv(\"term_to_index.csv\", index=False)\n",
    "\n",
    "print(\" Exported: final_dataset.csv, label_vectors.npz, term_to_index.csv\")\n"
   ],
   "metadata": {
    "_uuid": "ac0a2981-c2a0-4e25-83c9-443badb5644e",
    "_cell_guid": "dba9de8e-ca53-47ec-b848-0e50bcef546f",
    "trusted": true,
    "collapsed": false,
    "execution": {
     "iopub.status.busy": "2025-04-06T10:20:10.437599Z",
     "iopub.execute_input": "2025-04-06T10:20:10.437898Z",
     "iopub.status.idle": "2025-04-06T10:20:12.528825Z",
     "shell.execute_reply.started": "2025-04-06T10:20:10.437872Z",
     "shell.execute_reply": "2025-04-06T10:20:12.527978Z"
    }
   },
   "outputs": [
    {
     "name": "stdout",
     "text": "✅ Exported: final_dataset.csv, label_vectors.npz, term_to_index.csv\n",
     "output_type": "stream"
    }
   ],
   "execution_count": 18
  },
  {
   "cell_type": "code",
   "source": [
    "# Sanity check\n",
    "import numpy as np\n",
    "print(\" First label vector:\", df[\"auto_labels\"].iloc[0])\n",
    "print(\"Non-zero label indices:\", np.where(df[\"auto_labels\"].iloc[0])[0])"
   ],
   "metadata": {
    "_uuid": "dd88a12f-4d4d-47b8-a022-df2d6a5c7d13",
    "_cell_guid": "1cc66af2-e394-4d1a-b6aa-5144c9f6782a",
    "trusted": true,
    "collapsed": false,
    "execution": {
     "iopub.status.busy": "2025-04-06T10:20:12.529776Z",
     "iopub.execute_input": "2025-04-06T10:20:12.530074Z",
     "iopub.status.idle": "2025-04-06T10:20:12.536933Z",
     "shell.execute_reply.started": "2025-04-06T10:20:12.530039Z",
     "shell.execute_reply": "2025-04-06T10:20:12.535939Z"
    }
   },
   "outputs": [
    {
     "name": "stdout",
     "text": "✅ First label vector: [0. 0. 0. 0. 0. 0. 0. 0. 0. 0. 0. 0. 0. 0. 0. 0. 0. 0. 0. 0. 0. 0. 0. 0.\n 1. 0. 0. 0. 0. 0. 0. 0. 0. 1. 0. 0. 0. 0. 0. 0. 0. 0. 0. 0. 0. 0. 0. 0.\n 0. 0. 0. 0. 0. 0. 0. 0. 0. 0. 0. 0. 0. 0. 0. 0. 0. 0. 0. 0. 0. 0. 0. 0.\n 1. 0. 0. 0. 0. 0. 0. 0. 1. 0. 0. 0. 0. 0. 0. 0. 0. 0. 1. 1. 1. 0. 0. 0.\n 0. 1. 0. 0. 1. 0. 0. 1. 0. 0. 0. 0. 0. 0. 0. 0. 0. 0. 0. 0. 0. 0. 0. 0.\n 1. 0. 0. 0. 0. 0.]\nNon-zero label indices: [ 24  33  72  80  90  91  92  97 100 103 120]\n",
     "output_type": "stream"
    }
   ],
   "execution_count": 19
  },
  {
   "cell_type": "code",
   "source": [
    "import torch\n",
    "from torch.utils.data import Dataset, DataLoader\n",
    "from torchvision import transforms, models\n",
    "from transformers import AutoTokenizer, AutoModel\n",
    "from PIL import Image\n",
    "import torch.nn as nn\n",
    "import numpy as np\n",
    "import os\n",
    "from tqdm import tqdm\n",
    "\n",
    "# Dataset class\n",
    "class MultiModalDataset(Dataset):\n",
    "    def __init__(self, df, labels, tokenizer):\n",
    "        self.texts = df[\"text\"].tolist()\n",
    "        self.front = df[\"img_frontal\"].tolist()\n",
    "        self.lat = df[\"img_lateral\"].tolist()\n",
    "        self.labels = labels\n",
    "        self.tokenizer = tokenizer\n",
    "        self.transform = transforms.Compose([\n",
    "            transforms.Resize((128, 128)), transforms.ToTensor(),\n",
    "            transforms.Normalize([0.485, 0.456, 0.406], [0.229, 0.224, 0.225])\n",
    "        ])\n",
    "\n",
    "    def __len__(self): return len(self.texts)\n",
    "\n",
    "    \n",
    "    def __getitem__(self, idx):\n",
    "        text = str(self.texts[idx]) if self.texts[idx] else \"\"\n",
    "        tok = self.tokenizer(text, padding=\"max_length\", truncation=True, max_length=256, return_tensors=\"pt\")\n",
    "        input_ids = tok[\"input_ids\"].squeeze(0)\n",
    "        attn_mask = tok[\"attention_mask\"].squeeze(0)\n",
    "\n",
    "        def load(path):\n",
    "            try:\n",
    "                img = Image.open(path).convert(\"RGB\")\n",
    "                return self.transform(img)\n",
    "            except:\n",
    "                return torch.zeros((3, 128, 128))\n",
    "\n",
    "        img_front = load(self.front[idx])\n",
    "        img_lat = load(self.lat[idx])\n",
    "        label = torch.tensor(self.labels[idx], dtype=torch.float32)\n",
    "\n",
    "        return input_ids, attn_mask, img_front, img_lat, label"
   ],
   "metadata": {
    "_uuid": "6b26d7e1-56fe-4f00-9cf3-58a56455c185",
    "_cell_guid": "55c09589-5a3c-4ce9-9762-c156e0735ee0",
    "trusted": true,
    "collapsed": false,
    "execution": {
     "iopub.status.busy": "2025-04-06T10:20:12.538054Z",
     "iopub.execute_input": "2025-04-06T10:20:12.538360Z",
     "iopub.status.idle": "2025-04-06T10:20:12.551175Z",
     "shell.execute_reply.started": "2025-04-06T10:20:12.538336Z",
     "shell.execute_reply": "2025-04-06T10:20:12.550294Z"
    }
   },
   "outputs": [],
   "execution_count": 20
  },
  {
   "cell_type": "code",
   "source": [
    "# Load encoders\n",
    "tokenizer = AutoTokenizer.from_pretrained(\"emilyalsentzer/Bio_ClinicalBERT\")\n",
    "text_encoder = AutoModel.from_pretrained(\"emilyalsentzer/Bio_ClinicalBERT\").to(DEVICE)\n",
    "\n",
    "# Optional: Multi-GPU support for text encoder\n",
    "if torch.cuda.device_count() > 1:\n",
    "    print(f\"Using {torch.cuda.device_count()} GPUs for text encoder\")\n",
    "    text_encoder = nn.DataParallel(text_encoder)\n"
   ],
   "metadata": {
    "_uuid": "5cc86bb9-b36d-4c5d-aff8-2224528c2a24",
    "_cell_guid": "ab16aacf-ccbd-46fb-a01c-b6d9b8adfff8",
    "trusted": true,
    "collapsed": false,
    "execution": {
     "iopub.status.busy": "2025-04-06T10:20:12.552400Z",
     "iopub.execute_input": "2025-04-06T10:20:12.552806Z",
     "iopub.status.idle": "2025-04-06T10:20:16.298869Z",
     "shell.execute_reply.started": "2025-04-06T10:20:12.552729Z",
     "shell.execute_reply": "2025-04-06T10:20:16.297469Z"
    }
   },
   "outputs": [
    {
     "output_type": "display_data",
     "data": {
      "text/plain": "config.json:   0%|          | 0.00/385 [00:00<?, ?B/s]",
      "application/vnd.jupyter.widget-view+json": {
       "version_major": 2,
       "version_minor": 0,
       "model_id": "d01cb8aeeff840198e85bffe9fecf1ce"
      }
     },
     "metadata": {}
    },
    {
     "output_type": "display_data",
     "data": {
      "text/plain": "vocab.txt:   0%|          | 0.00/213k [00:00<?, ?B/s]",
      "application/vnd.jupyter.widget-view+json": {
       "version_major": 2,
       "version_minor": 0,
       "model_id": "c756f82cb58446b9b0d47f8db22688ee"
      }
     },
     "metadata": {}
    },
    {
     "output_type": "display_data",
     "data": {
      "text/plain": "pytorch_model.bin:   0%|          | 0.00/436M [00:00<?, ?B/s]",
      "application/vnd.jupyter.widget-view+json": {
       "version_major": 2,
       "version_minor": 0,
       "model_id": "1d50ae9c92d74ffdbc1a1989e59993c2"
      }
     },
     "metadata": {}
    },
    {
     "name": "stdout",
     "text": "🚀 Using 2 GPUs for text encoder\n",
     "output_type": "stream"
    }
   ],
   "execution_count": 21
  },
  {
   "cell_type": "code",
   "source": [
    "class ResNetFeatureExtractor(nn.Module):\n",
    "    def __init__(self):\n",
    "        super().__init__()\n",
    "        base = models.resnet50(pretrained=True)\n",
    "        self.base = nn.Sequential(*list(base.children())[:-1])\n",
    "\n",
    "    def forward(self, x):\n",
    "        return self.base(x).view(x.size(0), -1)\n",
    "\n",
    "model_image = ResNetFeatureExtractor().to(DEVICE)\n",
    "\n",
    "# Optional: Multi-GPU support for image model\n",
    "if torch.cuda.device_count() > 1:\n",
    "    print(f\" Using {torch.cuda.device_count()} GPUs for image encoder\")\n",
    "    model_image = nn.DataParallel(model_image)\n"
   ],
   "metadata": {
    "_uuid": "5cc86bb9-b36d-4c5d-aff8-2224528c2a24",
    "_cell_guid": "ab16aacf-ccbd-46fb-a01c-b6d9b8adfff8",
    "trusted": true,
    "collapsed": false,
    "execution": {
     "iopub.status.busy": "2025-04-06T10:20:16.300754Z",
     "iopub.execute_input": "2025-04-06T10:20:16.301086Z",
     "iopub.status.idle": "2025-04-06T10:20:17.477530Z",
     "shell.execute_reply.started": "2025-04-06T10:20:16.301027Z",
     "shell.execute_reply": "2025-04-06T10:20:17.476791Z"
    }
   },
   "outputs": [
    {
     "name": "stderr",
     "text": "/usr/local/lib/python3.10/dist-packages/torchvision/models/_utils.py:208: UserWarning: The parameter 'pretrained' is deprecated since 0.13 and may be removed in the future, please use 'weights' instead.\n  warnings.warn(\n/usr/local/lib/python3.10/dist-packages/torchvision/models/_utils.py:223: UserWarning: Arguments other than a weight enum or `None` for 'weights' are deprecated since 0.13 and may be removed in the future. The current behavior is equivalent to passing `weights=ResNet50_Weights.IMAGENET1K_V1`. You can also use `weights=ResNet50_Weights.DEFAULT` to get the most up-to-date weights.\n  warnings.warn(msg)\nDownloading: \"https://download.pytorch.org/models/resnet50-0676ba61.pth\" to /root/.cache/torch/hub/checkpoints/resnet50-0676ba61.pth\n100%|██████████| 97.8M/97.8M [00:00<00:00, 168MB/s] \n",
     "output_type": "stream"
    },
    {
     "name": "stdout",
     "text": "🚀 Using 2 GPUs for image encoder\n",
     "output_type": "stream"
    }
   ],
   "execution_count": 22
  },
  {
   "cell_type": "code",
   "source": [
    "# Fusion model\n",
    "class FusionModel(nn.Module):\n",
    "    def __init__(self, text_dim=768, img_dim=2048, hidden_dim=1024, out_dim=126):\n",
    "        super().__init__()\n",
    "        self.fc_text = nn.Linear(text_dim, hidden_dim)\n",
    "        self.fc_img = nn.Linear(img_dim, hidden_dim)\n",
    "        self.attn = nn.MultiheadAttention(hidden_dim, 4, batch_first=True)\n",
    "        self.mlp = nn.Sequential(\n",
    "            nn.Linear(hidden_dim, hidden_dim // 2),\n",
    "            nn.ReLU(), nn.Dropout(0.2),\n",
    "            nn.Linear(hidden_dim // 2, out_dim)\n",
    "        )\n",
    "\n",
    "    def forward(self, text_feat, img_feat):\n",
    "        x = torch.stack([self.fc_text(text_feat), self.fc_img(img_feat)], dim=1)\n",
    "        attn_out, _ = self.attn(x, x, x)\n",
    "        return self.mlp(attn_out.mean(dim=1))\n",
    "\n",
    "# Instantiate and send to device\n",
    "fusion_model = FusionModel(out_dim=126).to(DEVICE)\n",
    "\n",
    "# Multi-GPU support\n",
    "if torch.cuda.device_count() > 1:\n",
    "    print(f\" Using {torch.cuda.device_count()} GPUs for training\")\n",
    "    fusion_model = nn.DataParallel(fusion_model)\n"
   ],
   "metadata": {
    "_uuid": "496fd2e7-87f9-46b4-b9de-5601fd7c92c4",
    "_cell_guid": "12a77dad-9c8e-4dfb-8702-98ad853a6901",
    "trusted": true,
    "collapsed": false,
    "execution": {
     "iopub.status.busy": "2025-04-06T10:20:17.481135Z",
     "iopub.execute_input": "2025-04-06T10:20:17.481345Z",
     "iopub.status.idle": "2025-04-06T10:20:17.545832Z",
     "shell.execute_reply.started": "2025-04-06T10:20:17.481325Z",
     "shell.execute_reply": "2025-04-06T10:20:17.544997Z"
    }
   },
   "outputs": [
    {
     "name": "stdout",
     "text": "🚀 Using 2 GPUs for training\n",
     "output_type": "stream"
    }
   ],
   "execution_count": 23
  },
  {
   "cell_type": "code",
   "source": [
    "print(\"Is DataParallel?\", isinstance(fusion_model, nn.DataParallel))\n"
   ],
   "metadata": {
    "trusted": true,
    "execution": {
     "iopub.status.busy": "2025-04-06T10:20:17.547134Z",
     "iopub.execute_input": "2025-04-06T10:20:17.547440Z",
     "iopub.status.idle": "2025-04-06T10:20:17.552310Z",
     "shell.execute_reply.started": "2025-04-06T10:20:17.547416Z",
     "shell.execute_reply": "2025-04-06T10:20:17.551482Z"
    }
   },
   "outputs": [
    {
     "name": "stdout",
     "text": "👥 Is DataParallel? True\n",
     "output_type": "stream"
    }
   ],
   "execution_count": 24
  },
  {
   "cell_type": "code",
   "source": [
    "!nvidia-smi\n"
   ],
   "metadata": {
    "trusted": true,
    "execution": {
     "iopub.status.busy": "2025-04-06T10:20:17.553241Z",
     "iopub.execute_input": "2025-04-06T10:20:17.553466Z",
     "iopub.status.idle": "2025-04-06T10:20:17.836137Z",
     "shell.execute_reply.started": "2025-04-06T10:20:17.553445Z",
     "shell.execute_reply": "2025-04-06T10:20:17.835114Z"
    }
   },
   "outputs": [
    {
     "name": "stdout",
     "text": "Sun Apr  6 10:20:17 2025       \n+-----------------------------------------------------------------------------------------+\n| NVIDIA-SMI 560.35.03              Driver Version: 560.35.03      CUDA Version: 12.6     |\n|-----------------------------------------+------------------------+----------------------+\n| GPU  Name                 Persistence-M | Bus-Id          Disp.A | Volatile Uncorr. ECC |\n| Fan  Temp   Perf          Pwr:Usage/Cap |           Memory-Usage | GPU-Util  Compute M. |\n|                                         |                        |               MIG M. |\n|=========================================+========================+======================|\n|   0  Tesla T4                       Off |   00000000:00:04.0 Off |                    0 |\n| N/A   66C    P0             31W /   70W |    2015MiB /  15360MiB |      4%      Default |\n|                                         |                        |                  N/A |\n+-----------------------------------------+------------------------+----------------------+\n|   1  Tesla T4                       Off |   00000000:00:05.0 Off |                    0 |\n| N/A   42C    P0             25W /   70W |     767MiB /  15360MiB |      0%      Default |\n|                                         |                        |                  N/A |\n+-----------------------------------------+------------------------+----------------------+\n                                                                                         \n+-----------------------------------------------------------------------------------------+\n| Processes:                                                                              |\n|  GPU   GI   CI        PID   Type   Process name                              GPU Memory |\n|        ID   ID                                                               Usage      |\n|=========================================================================================|\n+-----------------------------------------------------------------------------------------+\n",
     "output_type": "stream"
    }
   ],
   "execution_count": 25
  },
  {
   "cell_type": "code",
   "source": [
    "# fusion_model = FusionModel(out_dim=num_labels).to(DEVICE)\n",
    "# fusion_model.load_state_dict(torch.load(\"/kaggle/input/besr_model_withllm/pytorch/default/1/fusion_mode_llm.pth\", map_location=DEVICE))\n",
    "# fusion_model.eval()"
   ],
   "metadata": {
    "_uuid": "9b13b7b4-c5be-45a3-b8bf-e8e1452087db",
    "_cell_guid": "f5fccb70-1e0c-4be2-97df-1273e2303fc6",
    "trusted": true,
    "collapsed": false,
    "execution": {
     "iopub.status.busy": "2025-04-06T10:20:17.837409Z",
     "iopub.execute_input": "2025-04-06T10:20:17.837672Z",
     "iopub.status.idle": "2025-04-06T10:20:17.841876Z",
     "shell.execute_reply.started": "2025-04-06T10:20:17.837648Z",
     "shell.execute_reply": "2025-04-06T10:20:17.840784Z"
    }
   },
   "outputs": [],
   "execution_count": 26
  },
  {
   "cell_type": "code",
   "source": [
    "from torch.utils.data import DataLoader\n",
    "\n",
    "val_ds = MultiModalDataset(df, df[\"auto_labels\"].tolist(), tokenizer)"
   ],
   "metadata": {
    "_uuid": "3aadc476-ad26-4604-b7f5-64fe401285bf",
    "_cell_guid": "2c2af485-7ee2-4d22-aec0-09f9cc7c8085",
    "trusted": true,
    "collapsed": false,
    "execution": {
     "iopub.status.busy": "2025-04-06T10:20:17.843010Z",
     "iopub.execute_input": "2025-04-06T10:20:17.843427Z",
     "iopub.status.idle": "2025-04-06T10:20:17.861911Z",
     "shell.execute_reply.started": "2025-04-06T10:20:17.843402Z",
     "shell.execute_reply": "2025-04-06T10:20:17.860919Z"
    }
   },
   "outputs": [],
   "execution_count": 27
  },
  {
   "cell_type": "code",
   "source": [
    "# Feature extractors\n",
    "@torch.no_grad()\n",
    "def extract_text_features(input_ids, attention_mask):\n",
    "    return text_encoder(input_ids=input_ids, attention_mask=attention_mask).last_hidden_state.mean(dim=1)\n",
    "\n",
    "@torch.no_grad()\n",
    "def extract_image_features(front, lat):\n",
    "    return (model_image(front) + model_image(lat)) / 2"
   ],
   "metadata": {
    "_uuid": "e5116c8a-dc94-4cf9-b2d1-e8aeaa80f0aa",
    "_cell_guid": "5a1fa982-d958-4364-b206-3757b7ead9dd",
    "trusted": true,
    "collapsed": false,
    "execution": {
     "iopub.status.busy": "2025-04-06T10:20:17.863251Z",
     "iopub.execute_input": "2025-04-06T10:20:17.863573Z",
     "iopub.status.idle": "2025-04-06T10:20:17.876788Z",
     "shell.execute_reply.started": "2025-04-06T10:20:17.863543Z",
     "shell.execute_reply": "2025-04-06T10:20:17.875855Z"
    }
   },
   "outputs": [],
   "execution_count": 28
  },
  {
   "cell_type": "code",
   "source": [
    "from sklearn.metrics import accuracy_score\n",
    "import subprocess\n",
    "import copy\n",
    "import torch\n",
    "from torch import nn\n",
    "from torch.utils.data import DataLoader\n",
    "from tqdm import tqdm\n",
    "import numpy as np\n",
    "\n",
    "# Assuming DEVICE, fusion_model, extract_text_features, and extract_image_features are defined elsewhere\n",
    "\n",
    "def train_fusion_model(train_ds, val_ds=None, batch_size=8, epochs=15, patience=3, model_path=\"/kaggle/working/best_model.pth\"):\n",
    "    loader = DataLoader(train_ds, batch_size=batch_size, shuffle=True, pin_memory=True, num_workers=2)\n",
    "    val_loader = DataLoader(val_ds, batch_size=batch_size, pin_memory=True, num_workers=2) if val_ds else None\n",
    "\n",
    "    optimizer = torch.optim.AdamW(fusion_model.parameters(), lr=1e-4)\n",
    "    loss_fn = nn.BCEWithLogitsLoss()\n",
    "    scaler = torch.cuda.amp.GradScaler()\n",
    "\n",
    "    best_loss = float('inf')\n",
    "    best_model = None\n",
    "    stop_counter = 0\n",
    "\n",
    "    for epoch in range(epochs):\n",
    "        fusion_model.train()\n",
    "        total_loss = 0.0\n",
    "        all_preds, all_labels = [], []\n",
    "\n",
    "        print(f\"\\n Epoch {epoch+1}/{epochs}\")\n",
    "\n",
    "        for batch in tqdm(loader, desc=\"Training\", leave=False):\n",
    "            input_ids, attn_mask, front, lat, labels = [b.to(DEVICE, non_blocking=True) for b in batch]\n",
    "\n",
    "            optimizer.zero_grad()\n",
    "            text_feat = extract_text_features(input_ids, attn_mask)\n",
    "            img_feat = extract_image_features(front, lat)\n",
    "\n",
    "            with torch.cuda.amp.autocast():\n",
    "                logits = fusion_model(text_feat, img_feat)\n",
    "                loss = loss_fn(logits, labels.to(DEVICE))  #  fixed .to\n",
    "\n",
    "            scaler.scale(loss).backward()\n",
    "            scaler.step(optimizer)\n",
    "            scaler.update()\n",
    "            total_loss += loss.item()\n",
    "\n",
    "            preds = (logits.sigmoid() > 0.5).float().detach().cpu().numpy()\n",
    "            all_preds.extend(preds)\n",
    "            all_labels.extend(labels.detach().cpu().numpy())\n",
    "\n",
    "        acc = accuracy_score(np.array(all_labels).flatten(), np.array(all_preds).flatten())\n",
    "        print(f\" Train — Loss: {total_loss:.4f} | Accuracy: {acc:.4f}\", end=\"\")\n",
    "\n",
    "        if val_loader:\n",
    "            fusion_model.eval()\n",
    "            val_loss = 0.0\n",
    "            val_preds, val_labels = [], []\n",
    "\n",
    "            with torch.no_grad():\n",
    "                for batch in val_loader:\n",
    "                    input_ids, attn_mask, front, lat, labels = [b.to(DEVICE, non_blocking=True) for b in batch]\n",
    "                    text_feat = extract_text_features(input_ids, attn_mask)\n",
    "                    img_feat = extract_image_features(front, lat)\n",
    "                    logits = fusion_model(text_feat, img_feat)\n",
    "\n",
    "                    val_loss += loss_fn(logits, labels.to(DEVICE)).item()\n",
    "                    preds = (logits.sigmoid() > 0.5).float().cpu().numpy()\n",
    "                    val_preds.extend(preds)\n",
    "                    val_labels.extend(labels.cpu().numpy())\n",
    "\n",
    "            val_acc = accuracy_score(np.array(val_labels).flatten(), np.array(val_preds).flatten())\n",
    "            print(f\" |  Val — Loss: {val_loss:.4f} | Accuracy: {val_acc:.4f}\", end=\"\")\n",
    "\n",
    "            if val_loss < best_loss:\n",
    "                best_loss = val_loss\n",
    "                best_model = copy.deepcopy(fusion_model.state_dict())\n",
    "                stop_counter = 0\n",
    "                torch.save(best_model, model_path)\n",
    "                print(f\" |  Best model saved @ epoch {epoch+1}\")\n",
    "            else:\n",
    "                stop_counter += 1\n",
    "                print(f\" |  No improvement. Patience: {stop_counter}/{patience}\")\n",
    "\n",
    "            if stop_counter >= patience:\n",
    "                print(\" |  Early stopping triggered!\")\n",
    "                print(\"\\n  . Best Validation Loss:\", best_loss)\n",
    "                break\n",
    "        else:\n",
    "            print(\"\")  # newline when no validation\n",
    "\n"
   ],
   "metadata": {
    "_uuid": "fbf2ffee-657f-4b3d-9bab-d38bdf996297",
    "_cell_guid": "084220ad-1751-49bf-b144-69a7fbbd4e20",
    "trusted": true,
    "collapsed": false,
    "execution": {
     "iopub.status.busy": "2025-04-06T10:20:17.877988Z",
     "iopub.execute_input": "2025-04-06T10:20:17.878345Z",
     "iopub.status.idle": "2025-04-06T10:20:17.896346Z",
     "shell.execute_reply.started": "2025-04-06T10:20:17.878313Z",
     "shell.execute_reply": "2025-04-06T10:20:17.895362Z"
    }
   },
   "outputs": [],
   "execution_count": 29
  },
  {
   "cell_type": "code",
   "source": [
    "from sklearn.model_selection import train_test_split\n",
    "\n",
    "# Split the dataframe\n",
    "train_df, val_df = train_test_split(df, test_size=0.2, random_state=42)\n",
    "\n",
    "# Create dataset objects\n",
    "train_ds = MultiModalDataset(train_df, train_df[\"auto_labels\"].tolist(), tokenizer)\n",
    "val_ds = MultiModalDataset(val_df, val_df[\"auto_labels\"].tolist(), tokenizer)\n",
    "\n",
    "# Start training with early stopping + best model save\n",
    "train_fusion_model(\n",
    "    train_ds,\n",
    "    val_ds,\n",
    "    batch_size=32,\n",
    "    epochs=30,\n",
    "    patience=3,\n",
    "    model_path=\"/kaggle/working/best_model.pth\"\n",
    ")"
   ],
   "metadata": {
    "_uuid": "437a0b28-e375-451b-8580-deff2becb8c9",
    "_cell_guid": "fd2a3ace-dc1c-4a3f-84e5-23c9748ea2d3",
    "trusted": true,
    "collapsed": false,
    "execution": {
     "iopub.status.busy": "2025-04-06T10:31:50.755807Z",
     "iopub.execute_input": "2025-04-06T10:31:50.756176Z",
     "iopub.status.idle": "2025-04-06T11:53:37.524703Z",
     "shell.execute_reply.started": "2025-04-06T10:31:50.756144Z",
     "shell.execute_reply": "2025-04-06T11:53:37.523743Z"
    }
   },
   "outputs": [
    {
     "name": "stderr",
     "text": "<ipython-input-29-ca4d34843c77>:18: FutureWarning: `torch.cuda.amp.GradScaler(args...)` is deprecated. Please use `torch.amp.GradScaler('cuda', args...)` instead.\n  scaler = torch.cuda.amp.GradScaler()\n",
     "output_type": "stream"
    },
    {
     "name": "stdout",
     "text": "\n🔄 Epoch 1/30\n",
     "output_type": "stream"
    },
    {
     "name": "stderr",
     "text": "Training:   0%|          | 0/96 [00:00<?, ?it/s]<ipython-input-29-ca4d34843c77>:38: FutureWarning: `torch.cuda.amp.autocast(args...)` is deprecated. Please use `torch.amp.autocast('cuda', args...)` instead.\n  with torch.cuda.amp.autocast():\n                                                         ",
     "output_type": "stream"
    },
    {
     "name": "stdout",
     "text": "✅ Train — Loss: 12.2633 | Accuracy: 0.9544",
     "output_type": "stream"
    },
    {
     "name": "stderr",
     "text": "\r",
     "output_type": "stream"
    },
    {
     "name": "stdout",
     "text": " | 🔍 Val — Loss: 2.9728 | Accuracy: 0.9547 | 💾 Best model saved @ epoch 1\n\n🔄 Epoch 2/30\n",
     "output_type": "stream"
    },
    {
     "name": "stderr",
     "text": "Training:   0%|          | 0/96 [00:00<?, ?it/s]<ipython-input-29-ca4d34843c77>:38: FutureWarning: `torch.cuda.amp.autocast(args...)` is deprecated. Please use `torch.amp.autocast('cuda', args...)` instead.\n  with torch.cuda.amp.autocast():\n                                                         ",
     "output_type": "stream"
    },
    {
     "name": "stdout",
     "text": "✅ Train — Loss: 11.3368 | Accuracy: 0.9580",
     "output_type": "stream"
    },
    {
     "name": "stderr",
     "text": "\r",
     "output_type": "stream"
    },
    {
     "name": "stdout",
     "text": " | 🔍 Val — Loss: 2.6622 | Accuracy: 0.9613 | 💾 Best model saved @ epoch 2\n\n🔄 Epoch 3/30\n",
     "output_type": "stream"
    },
    {
     "name": "stderr",
     "text": "Training:   0%|          | 0/96 [00:00<?, ?it/s]<ipython-input-29-ca4d34843c77>:38: FutureWarning: `torch.cuda.amp.autocast(args...)` is deprecated. Please use `torch.amp.autocast('cuda', args...)` instead.\n  with torch.cuda.amp.autocast():\n                                                         ",
     "output_type": "stream"
    },
    {
     "name": "stdout",
     "text": "✅ Train — Loss: 10.2032 | Accuracy: 0.9630",
     "output_type": "stream"
    },
    {
     "name": "stderr",
     "text": "\r",
     "output_type": "stream"
    },
    {
     "name": "stdout",
     "text": " | 🔍 Val — Loss: 2.5652 | Accuracy: 0.9626 | 💾 Best model saved @ epoch 3\n\n🔄 Epoch 4/30\n",
     "output_type": "stream"
    },
    {
     "name": "stderr",
     "text": "Training:   0%|          | 0/96 [00:00<?, ?it/s]<ipython-input-29-ca4d34843c77>:38: FutureWarning: `torch.cuda.amp.autocast(args...)` is deprecated. Please use `torch.amp.autocast('cuda', args...)` instead.\n  with torch.cuda.amp.autocast():\n                                                         ",
     "output_type": "stream"
    },
    {
     "name": "stdout",
     "text": "✅ Train — Loss: 9.8114 | Accuracy: 0.9643",
     "output_type": "stream"
    },
    {
     "name": "stderr",
     "text": "\r",
     "output_type": "stream"
    },
    {
     "name": "stdout",
     "text": " | 🔍 Val — Loss: 2.4532 | Accuracy: 0.9642 | 💾 Best model saved @ epoch 4\n\n🔄 Epoch 5/30\n",
     "output_type": "stream"
    },
    {
     "name": "stderr",
     "text": "Training:   0%|          | 0/96 [00:00<?, ?it/s]<ipython-input-29-ca4d34843c77>:38: FutureWarning: `torch.cuda.amp.autocast(args...)` is deprecated. Please use `torch.amp.autocast('cuda', args...)` instead.\n  with torch.cuda.amp.autocast():\n                                                         ",
     "output_type": "stream"
    },
    {
     "name": "stdout",
     "text": "✅ Train — Loss: 9.5595 | Accuracy: 0.9651",
     "output_type": "stream"
    },
    {
     "name": "stderr",
     "text": "\r",
     "output_type": "stream"
    },
    {
     "name": "stdout",
     "text": " | 🔍 Val — Loss: 2.4216 | Accuracy: 0.9648 | 💾 Best model saved @ epoch 5\n\n🔄 Epoch 6/30\n",
     "output_type": "stream"
    },
    {
     "name": "stderr",
     "text": "Training:   0%|          | 0/96 [00:00<?, ?it/s]<ipython-input-29-ca4d34843c77>:38: FutureWarning: `torch.cuda.amp.autocast(args...)` is deprecated. Please use `torch.amp.autocast('cuda', args...)` instead.\n  with torch.cuda.amp.autocast():\n                                                         ",
     "output_type": "stream"
    },
    {
     "name": "stdout",
     "text": "✅ Train — Loss: 9.3338 | Accuracy: 0.9660",
     "output_type": "stream"
    },
    {
     "name": "stderr",
     "text": "\r",
     "output_type": "stream"
    },
    {
     "name": "stdout",
     "text": " | 🔍 Val — Loss: 2.3757 | Accuracy: 0.9653 | 💾 Best model saved @ epoch 6\n\n🔄 Epoch 7/30\n",
     "output_type": "stream"
    },
    {
     "name": "stderr",
     "text": "Training:   0%|          | 0/96 [00:00<?, ?it/s]<ipython-input-29-ca4d34843c77>:38: FutureWarning: `torch.cuda.amp.autocast(args...)` is deprecated. Please use `torch.amp.autocast('cuda', args...)` instead.\n  with torch.cuda.amp.autocast():\n                                                         ",
     "output_type": "stream"
    },
    {
     "name": "stdout",
     "text": "✅ Train — Loss: 8.8604 | Accuracy: 0.9680",
     "output_type": "stream"
    },
    {
     "name": "stderr",
     "text": "\r",
     "output_type": "stream"
    },
    {
     "name": "stdout",
     "text": " | 🔍 Val — Loss: 2.2750 | Accuracy: 0.9667 | 💾 Best model saved @ epoch 7\n\n🔄 Epoch 8/30\n",
     "output_type": "stream"
    },
    {
     "name": "stderr",
     "text": "Training:   0%|          | 0/96 [00:00<?, ?it/s]<ipython-input-29-ca4d34843c77>:38: FutureWarning: `torch.cuda.amp.autocast(args...)` is deprecated. Please use `torch.amp.autocast('cuda', args...)` instead.\n  with torch.cuda.amp.autocast():\n                                                         ",
     "output_type": "stream"
    },
    {
     "name": "stdout",
     "text": "✅ Train — Loss: 8.5959 | Accuracy: 0.9688",
     "output_type": "stream"
    },
    {
     "name": "stderr",
     "text": "\r",
     "output_type": "stream"
    },
    {
     "name": "stdout",
     "text": " | 🔍 Val — Loss: 2.2148 | Accuracy: 0.9675 | 💾 Best model saved @ epoch 8\n\n🔄 Epoch 9/30\n",
     "output_type": "stream"
    },
    {
     "name": "stderr",
     "text": "Training:   0%|          | 0/96 [00:00<?, ?it/s]<ipython-input-29-ca4d34843c77>:38: FutureWarning: `torch.cuda.amp.autocast(args...)` is deprecated. Please use `torch.amp.autocast('cuda', args...)` instead.\n  with torch.cuda.amp.autocast():\n                                                         ",
     "output_type": "stream"
    },
    {
     "name": "stdout",
     "text": "✅ Train — Loss: 8.3361 | Accuracy: 0.9699",
     "output_type": "stream"
    },
    {
     "name": "stderr",
     "text": "\r",
     "output_type": "stream"
    },
    {
     "name": "stdout",
     "text": " | 🔍 Val — Loss: 2.1956 | Accuracy: 0.9679 | 💾 Best model saved @ epoch 9\n\n🔄 Epoch 10/30\n",
     "output_type": "stream"
    },
    {
     "name": "stderr",
     "text": "Training:   0%|          | 0/96 [00:00<?, ?it/s]<ipython-input-29-ca4d34843c77>:38: FutureWarning: `torch.cuda.amp.autocast(args...)` is deprecated. Please use `torch.amp.autocast('cuda', args...)` instead.\n  with torch.cuda.amp.autocast():\n                                                         ",
     "output_type": "stream"
    },
    {
     "name": "stdout",
     "text": "✅ Train — Loss: 7.9907 | Accuracy: 0.9709",
     "output_type": "stream"
    },
    {
     "name": "stderr",
     "text": "\r",
     "output_type": "stream"
    },
    {
     "name": "stdout",
     "text": " | 🔍 Val — Loss: 2.1499 | Accuracy: 0.9687 | 💾 Best model saved @ epoch 10\n\n🔄 Epoch 11/30\n",
     "output_type": "stream"
    },
    {
     "name": "stderr",
     "text": "Training:   0%|          | 0/96 [00:00<?, ?it/s]<ipython-input-29-ca4d34843c77>:38: FutureWarning: `torch.cuda.amp.autocast(args...)` is deprecated. Please use `torch.amp.autocast('cuda', args...)` instead.\n  with torch.cuda.amp.autocast():\n                                                         ",
     "output_type": "stream"
    },
    {
     "name": "stdout",
     "text": "✅ Train — Loss: 7.7833 | Accuracy: 0.9718",
     "output_type": "stream"
    },
    {
     "name": "stderr",
     "text": "\r",
     "output_type": "stream"
    },
    {
     "name": "stdout",
     "text": " | 🔍 Val — Loss: 2.1279 | Accuracy: 0.9692 | 💾 Best model saved @ epoch 11\n\n🔄 Epoch 12/30\n",
     "output_type": "stream"
    },
    {
     "name": "stderr",
     "text": "Training:   0%|          | 0/96 [00:00<?, ?it/s]<ipython-input-29-ca4d34843c77>:38: FutureWarning: `torch.cuda.amp.autocast(args...)` is deprecated. Please use `torch.amp.autocast('cuda', args...)` instead.\n  with torch.cuda.amp.autocast():\n                                                         ",
     "output_type": "stream"
    },
    {
     "name": "stdout",
     "text": "✅ Train — Loss: 7.6296 | Accuracy: 0.9721",
     "output_type": "stream"
    },
    {
     "name": "stderr",
     "text": "\r",
     "output_type": "stream"
    },
    {
     "name": "stdout",
     "text": " | 🔍 Val — Loss: 2.0565 | Accuracy: 0.9703 | 💾 Best model saved @ epoch 12\n\n🔄 Epoch 13/30\n",
     "output_type": "stream"
    },
    {
     "name": "stderr",
     "text": "Training:   0%|          | 0/96 [00:00<?, ?it/s]<ipython-input-29-ca4d34843c77>:38: FutureWarning: `torch.cuda.amp.autocast(args...)` is deprecated. Please use `torch.amp.autocast('cuda', args...)` instead.\n  with torch.cuda.amp.autocast():\n                                                         ",
     "output_type": "stream"
    },
    {
     "name": "stdout",
     "text": "✅ Train — Loss: 7.4023 | Accuracy: 0.9729",
     "output_type": "stream"
    },
    {
     "name": "stderr",
     "text": "\r",
     "output_type": "stream"
    },
    {
     "name": "stdout",
     "text": " | 🔍 Val — Loss: 2.0302 | Accuracy: 0.9702 | 💾 Best model saved @ epoch 13\n\n🔄 Epoch 14/30\n",
     "output_type": "stream"
    },
    {
     "name": "stderr",
     "text": "Training:   0%|          | 0/96 [00:00<?, ?it/s]<ipython-input-29-ca4d34843c77>:38: FutureWarning: `torch.cuda.amp.autocast(args...)` is deprecated. Please use `torch.amp.autocast('cuda', args...)` instead.\n  with torch.cuda.amp.autocast():\n                                                         ",
     "output_type": "stream"
    },
    {
     "name": "stdout",
     "text": "✅ Train — Loss: 7.2410 | Accuracy: 0.9734",
     "output_type": "stream"
    },
    {
     "name": "stderr",
     "text": "\r",
     "output_type": "stream"
    },
    {
     "name": "stdout",
     "text": " | 🔍 Val — Loss: 2.0129 | Accuracy: 0.9701 | 💾 Best model saved @ epoch 14\n\n🔄 Epoch 15/30\n",
     "output_type": "stream"
    },
    {
     "name": "stderr",
     "text": "Training:   0%|          | 0/96 [00:00<?, ?it/s]<ipython-input-29-ca4d34843c77>:38: FutureWarning: `torch.cuda.amp.autocast(args...)` is deprecated. Please use `torch.amp.autocast('cuda', args...)` instead.\n  with torch.cuda.amp.autocast():\n                                                         ",
     "output_type": "stream"
    },
    {
     "name": "stdout",
     "text": "✅ Train — Loss: 7.1433 | Accuracy: 0.9738",
     "output_type": "stream"
    },
    {
     "name": "stderr",
     "text": "\r",
     "output_type": "stream"
    },
    {
     "name": "stdout",
     "text": " | 🔍 Val — Loss: 2.0161 | Accuracy: 0.9705 | ⚠️ No improvement. Patience: 1/3\n\n🔄 Epoch 16/30\n",
     "output_type": "stream"
    },
    {
     "name": "stderr",
     "text": "Training:   0%|          | 0/96 [00:00<?, ?it/s]<ipython-input-29-ca4d34843c77>:38: FutureWarning: `torch.cuda.amp.autocast(args...)` is deprecated. Please use `torch.amp.autocast('cuda', args...)` instead.\n  with torch.cuda.amp.autocast():\n                                                         ",
     "output_type": "stream"
    },
    {
     "name": "stdout",
     "text": "✅ Train — Loss: 6.9335 | Accuracy: 0.9745",
     "output_type": "stream"
    },
    {
     "name": "stderr",
     "text": "\r",
     "output_type": "stream"
    },
    {
     "name": "stdout",
     "text": " | 🔍 Val — Loss: 1.9771 | Accuracy: 0.9714 | 💾 Best model saved @ epoch 16\n\n🔄 Epoch 17/30\n",
     "output_type": "stream"
    },
    {
     "name": "stderr",
     "text": "Training:   0%|          | 0/96 [00:00<?, ?it/s]<ipython-input-29-ca4d34843c77>:38: FutureWarning: `torch.cuda.amp.autocast(args...)` is deprecated. Please use `torch.amp.autocast('cuda', args...)` instead.\n  with torch.cuda.amp.autocast():\n                                                         ",
     "output_type": "stream"
    },
    {
     "name": "stdout",
     "text": "✅ Train — Loss: 6.8319 | Accuracy: 0.9747",
     "output_type": "stream"
    },
    {
     "name": "stderr",
     "text": "\r",
     "output_type": "stream"
    },
    {
     "name": "stdout",
     "text": " | 🔍 Val — Loss: 1.9788 | Accuracy: 0.9706 | ⚠️ No improvement. Patience: 1/3\n\n🔄 Epoch 18/30\n",
     "output_type": "stream"
    },
    {
     "name": "stderr",
     "text": "Training:   0%|          | 0/96 [00:00<?, ?it/s]<ipython-input-29-ca4d34843c77>:38: FutureWarning: `torch.cuda.amp.autocast(args...)` is deprecated. Please use `torch.amp.autocast('cuda', args...)` instead.\n  with torch.cuda.amp.autocast():\n                                                         ",
     "output_type": "stream"
    },
    {
     "name": "stdout",
     "text": "✅ Train — Loss: 6.6428 | Accuracy: 0.9754",
     "output_type": "stream"
    },
    {
     "name": "stderr",
     "text": "\r",
     "output_type": "stream"
    },
    {
     "name": "stdout",
     "text": " | 🔍 Val — Loss: 1.9840 | Accuracy: 0.9711 | ⚠️ No improvement. Patience: 2/3\n\n🔄 Epoch 19/30\n",
     "output_type": "stream"
    },
    {
     "name": "stderr",
     "text": "Training:   0%|          | 0/96 [00:00<?, ?it/s]<ipython-input-29-ca4d34843c77>:38: FutureWarning: `torch.cuda.amp.autocast(args...)` is deprecated. Please use `torch.amp.autocast('cuda', args...)` instead.\n  with torch.cuda.amp.autocast():\n                                                         ",
     "output_type": "stream"
    },
    {
     "name": "stdout",
     "text": "✅ Train — Loss: 6.5825 | Accuracy: 0.9755",
     "output_type": "stream"
    },
    {
     "name": "stderr",
     "text": "\r",
     "output_type": "stream"
    },
    {
     "name": "stdout",
     "text": " | 🔍 Val — Loss: 2.0126 | Accuracy: 0.9711 | ⚠️ No improvement. Patience: 3/3\n | ⏹️ Early stopping triggered!\n\n🎯 Best Validation Loss: 1.9771129563450813\n",
     "output_type": "stream"
    }
   ],
   "execution_count": 32
  },
  {
   "cell_type": "code",
   "source": [
    "import os\n",
    "os.listdir(\"/kaggle/working\")"
   ],
   "metadata": {
    "_uuid": "379b1f3d-e319-4fb2-8192-74e5a5d5dcb2",
    "_cell_guid": "29d9889a-473d-48a9-8f18-80751e4d8684",
    "trusted": true,
    "collapsed": false,
    "execution": {
     "iopub.status.busy": "2025-04-06T11:54:44.755873Z",
     "iopub.execute_input": "2025-04-06T11:54:44.756217Z",
     "iopub.status.idle": "2025-04-06T11:54:44.762275Z",
     "shell.execute_reply.started": "2025-04-06T11:54:44.756191Z",
     "shell.execute_reply": "2025-04-06T11:54:44.761296Z"
    }
   },
   "outputs": [
    {
     "execution_count": 33,
     "output_type": "execute_result",
     "data": {
      "text/plain": "['term_to_index.csv',\n 'label_vectors.npz',\n '.virtual_documents',\n 'final_dataset.csv',\n 'best_model.pth']"
     },
     "metadata": {}
    }
   ],
   "execution_count": 33
  },
  {
   "cell_type": "code",
   "source": [
    "# Save the model weights\n",
    "# torch.save(fusion_model.state_dict(), \"/kaggle/working/fusion_mode_llm.pth\")\n",
    "torch.save(fusion_model.module.state_dict() if isinstance(fusion_model, nn.DataParallel) else fusion_model.state_dict(), \"/kaggle/working/fusion_model.pth\")\n",
    "print(\" Model saved to working directory.\")"
   ],
   "metadata": {
    "_uuid": "bd2e66b9-9479-4d5b-8767-72ce7d9cad62",
    "_cell_guid": "090bd3da-519e-448f-b834-536c6db47da5",
    "trusted": true,
    "collapsed": false,
    "execution": {
     "iopub.status.busy": "2025-04-06T11:58:22.551220Z",
     "iopub.execute_input": "2025-04-06T11:58:22.551562Z",
     "iopub.status.idle": "2025-04-06T11:58:22.600387Z",
     "shell.execute_reply.started": "2025-04-06T11:58:22.551534Z",
     "shell.execute_reply": "2025-04-06T11:58:22.599447Z"
    }
   },
   "outputs": [
    {
     "name": "stdout",
     "text": "✅ Model saved to working directory.\n",
     "output_type": "stream"
    }
   ],
   "execution_count": 36
  },
  {
   "cell_type": "code",
   "source": [
    "from sklearn.metrics import accuracy_score, precision_score, recall_score, f1_score\n",
    "import numpy as np"
   ],
   "metadata": {
    "_uuid": "3b2d8c2f-2876-4ddc-aab2-f8e99371a98e",
    "_cell_guid": "593d05e2-e482-4c0c-bbc6-6d23cb736cf7",
    "trusted": true,
    "collapsed": false,
    "execution": {
     "iopub.status.busy": "2025-04-06T11:59:44.626392Z",
     "iopub.execute_input": "2025-04-06T11:59:44.626697Z",
     "iopub.status.idle": "2025-04-06T11:59:44.631151Z",
     "shell.execute_reply.started": "2025-04-06T11:59:44.626674Z",
     "shell.execute_reply": "2025-04-06T11:59:44.630103Z"
    }
   },
   "outputs": [],
   "execution_count": 37
  },
  {
   "cell_type": "code",
   "source": [
    "import torch\n",
    "from torch.utils.data import DataLoader\n",
    "from tqdm import tqdm\n",
    "import numpy as np\n",
    "from sklearn.metrics import accuracy_score, precision_score, recall_score, f1_score\n",
    "\n",
    "# Assuming DEVICE, extract_text_features, extract_image_features, and model are defined elsewhere\n",
    "\n",
    "def evaluate_model(model, dataset, batch_size=32):\n",
    "    loader = DataLoader(dataset, batch_size=batch_size, pin_memory=True, num_workers=2)\n",
    "    model.eval()\n",
    "\n",
    "    all_preds = []\n",
    "\n",
    "    all_labels = []\n",
    "\n",
    "    with torch.no_grad():\n",
    "        for batch in tqdm(loader, desc=\" Evaluating\"):\n",
    "            input_ids, attn_mask, front, lat, labels = [b.to(DEVICE) for b in batch]\n",
    "\n",
    "            text_feat = extract_text_features(input_ids, attn_mask)\n",
    "            img_feat = extract_image_features(front, lat)\n",
    "\n",
    "            logits = model(text_feat, img_feat)\n",
    "            preds = (logits.sigmoid() > 0.5).float().cpu().numpy()\n",
    "            labels = labels.cpu().numpy()\n",
    "\n",
    "            all_preds.extend(preds)\n",
    "            all_labels.extend(labels)\n",
    "\n",
    "    all_preds = np.array(all_preds)\n",
    "    all_labels = np.array(all_labels)\n",
    "\n",
    "    acc = accuracy_score(all_labels.flatten(), all_preds.flatten())\n",
    "    precision_micro = precision_score(all_labels, all_preds, average=\"micro\", zero_division=0)\n",
    "    recall_micro = recall_score(all_labels, all_preds, average=\"micro\", zero_division=0)\n",
    "    f1_micro = f1_score(all_labels, all_preds, average=\"micro\", zero_division=0)\n",
    "\n",
    "    precision_macro = precision_score(all_labels, all_preds, average=\"macro\", zero_division=0)\n",
    "    recall_macro = recall_score(all_labels, all_preds, average=\"macro\", zero_division=0)\n",
    "    f1_macro = f1_score(all_labels, all_preds, average=\"macro\", zero_division=0)\n",
    "\n",
    "    print(\"\\n Final Evaluation:\")\n",
    "    print(f\" Accuracy: {acc:.4f},  Precision (micro): {precision_micro:.4f},  Recall (micro): {recall_micro:.4f}, F1 Score (micro): {f1_micro:.4f}\")\n",
    "    print(f\" Precision (macro): {precision_macro:.4f},  Recall (macro): {recall_macro:.4f}, F1 Score (macro): {f1_macro:.4f}\")"
   ],
   "metadata": {
    "_uuid": "322d893a-33a1-4c42-8aef-39749a5ec9de",
    "_cell_guid": "f2301661-f9bc-4fe2-9dc5-499dd43ba941",
    "trusted": true,
    "collapsed": false,
    "execution": {
     "iopub.status.busy": "2025-04-06T12:00:17.797351Z",
     "iopub.execute_input": "2025-04-06T12:00:17.797774Z",
     "iopub.status.idle": "2025-04-06T12:00:17.805612Z",
     "shell.execute_reply.started": "2025-04-06T12:00:17.797723Z",
     "shell.execute_reply": "2025-04-06T12:00:17.804734Z"
    }
   },
   "outputs": [],
   "execution_count": 39
  },
  {
   "cell_type": "code",
   "source": [
    "evaluate_model(fusion_model, val_ds)"
   ],
   "metadata": {
    "_uuid": "ac78c029-6d9f-4709-9707-4f589d9fce6b",
    "_cell_guid": "248dbf50-a114-4681-97f2-bca3a4e2e596",
    "trusted": true,
    "collapsed": false,
    "execution": {
     "iopub.status.busy": "2025-04-06T12:00:18.936264Z",
     "iopub.execute_input": "2025-04-06T12:00:18.936578Z",
     "iopub.status.idle": "2025-04-06T12:01:12.067042Z",
     "shell.execute_reply.started": "2025-04-06T12:00:18.936548Z",
     "shell.execute_reply": "2025-04-06T12:01:12.066026Z"
    }
   },
   "outputs": [
    {
     "name": "stderr",
     "text": "🔍 Evaluating: 100%|██████████| 24/24 [00:53<00:00,  2.21s/it]",
     "output_type": "stream"
    },
    {
     "name": "stdout",
     "text": "\n📊 Final Evaluation:\n✅ Accuracy: 0.9711, 🎯 Precision (micro): 0.8720, 📥 Recall (micro): 0.7005, 🏅 F1 Score (micro): 0.7769\n🎯 Precision (macro): 0.1955, 📥 Recall (macro): 0.1223, 🏅 F1 Score (macro): 0.1363\n",
     "output_type": "stream"
    },
    {
     "name": "stderr",
     "text": "\n",
     "output_type": "stream"
    }
   ],
   "execution_count": 40
  },
  {
   "cell_type": "code",
   "source": [
    "from sklearn.metrics import (\n",
    "    accuracy_score, precision_score, recall_score, f1_score,\n",
    "    hamming_loss, classification_report\n",
    ")\n",
    "import numpy as np\n",
    "from tqdm import tqdm\n",
    "import torch\n",
    "\n",
    "def evaluate_model(model, dataset, batch_size=8, threshold=0.5):\n",
    "    loader = DataLoader(dataset, batch_size=batch_size, pin_memory=True, num_workers=2)\n",
    "    model.eval()\n",
    "\n",
    "    all_preds = []\n",
    "    all_labels = []\n",
    "\n",
    "    with torch.no_grad():\n",
    "        for batch in tqdm(loader, desc=\"Evaluating\"):\n",
    "            input_ids, attn_mask, front, lat, labels = [b.to(DEVICE) for b in batch]\n",
    "\n",
    "            text_feat = extract_text_features(input_ids, attn_mask)\n",
    "            img_feat = extract_image_features(front, lat)\n",
    "\n",
    "            logits = model(text_feat, img_feat)\n",
    "            preds = (logits.sigmoid() > threshold).float().cpu().numpy()\n",
    "            labels = labels.cpu().numpy()\n",
    "\n",
    "            all_preds.extend(preds)\n",
    "            all_labels.extend(labels)\n",
    "\n",
    "    all_preds = np.array(all_preds)\n",
    "    all_labels = np.array(all_labels)\n",
    "\n",
    "    # Standard metrics\n",
    "    acc = accuracy_score(all_labels.flatten(), all_preds.flatten())\n",
    "    precision_micro = precision_score(all_labels, all_preds, average=\"micro\", zero_division=0)\n",
    "    recall_micro = recall_score(all_labels, all_preds, average=\"micro\", zero_division=0)\n",
    "    f1_micro = f1_score(all_labels, all_preds, average=\"micro\", zero_division=0)\n",
    "\n",
    "    precision_macro = precision_score(all_labels, all_preds, average=\"macro\", zero_division=0)\n",
    "    recall_macro = recall_score(all_labels, all_preds, average=\"macro\", zero_division=0)\n",
    "    f1_macro = f1_score(all_labels, all_preds, average=\"macro\", zero_division=0)\n",
    "\n",
    "    hamming = hamming_loss(all_labels, all_preds)\n",
    "\n",
    "    print(f\"\\n Final Evaluation:\")\n",
    "    print(f\" Accuracy           : {acc:.4f}\")\n",
    "    print(f\" Precision (micro)  : {precision_micro:.4f}\")\n",
    "    print(f\" Recall (micro)     : {recall_micro:.4f}\")\n",
    "    print(f\" F1 Score (micro)   : {f1_micro:.4f}\")\n",
    "    print(f\" Precision (macro)  : {precision_macro:.4f}\")\n",
    "    print(f\" Recall (macro)     : {recall_macro:.4f}\")\n",
    "    print(f\" F1 Score (macro)   : {f1_macro:.4f}\")\n",
    "    print(f\" Hamming Loss       : {hamming:.4f}\")\n",
    "\n",
    "    return {\n",
    "        \"accuracy\": acc,\n",
    "        \"precision_micro\": precision_micro,\n",
    "        \"recall_micro\": recall_micro,\n",
    "        \"f1_micro\": f1_micro,\n",
    "        \"precision_macro\": precision_macro,\n",
    "        \"recall_macro\": recall_macro,\n",
    "        \"f1_macro\": f1_macro,\n",
    "        \"hamming_loss\": hamming\n",
    "    }"
   ],
   "metadata": {
    "_uuid": "b7aa5e05-0af1-4b20-8f9d-2eb9d28bfb3e",
    "_cell_guid": "f62245d4-43c8-46b6-bdf8-059754e8d692",
    "trusted": true,
    "collapsed": false,
    "execution": {
     "iopub.status.busy": "2025-04-06T12:01:33.006199Z",
     "iopub.execute_input": "2025-04-06T12:01:33.006502Z",
     "iopub.status.idle": "2025-04-06T12:01:33.016208Z",
     "shell.execute_reply.started": "2025-04-06T12:01:33.006478Z",
     "shell.execute_reply": "2025-04-06T12:01:33.015287Z"
    }
   },
   "outputs": [],
   "execution_count": 41
  },
  {
   "cell_type": "code",
   "source": [
    "evaluate_model(fusion_model, val_ds, batch_size=32)"
   ],
   "metadata": {
    "_uuid": "e9c2e580-0dfe-4567-aafa-bb23fdb23dfc",
    "_cell_guid": "392b1589-a6c0-4153-b2d1-0e406eddbec9",
    "trusted": true,
    "collapsed": false,
    "execution": {
     "iopub.status.busy": "2025-04-06T12:01:58.935517Z",
     "iopub.execute_input": "2025-04-06T12:01:58.935824Z",
     "iopub.status.idle": "2025-04-06T12:02:51.961379Z",
     "shell.execute_reply.started": "2025-04-06T12:01:58.935800Z",
     "shell.execute_reply": "2025-04-06T12:02:51.960429Z"
    }
   },
   "outputs": [
    {
     "name": "stderr",
     "text": "🔍 Evaluating: 100%|██████████| 24/24 [00:52<00:00,  2.20s/it]",
     "output_type": "stream"
    },
    {
     "name": "stdout",
     "text": "\n📊 Final Evaluation:\n✅ Accuracy           : 0.9711\n🎯 Precision (micro)  : 0.8720\n📥 Recall (micro)     : 0.7005\n🏅 F1 Score (micro)   : 0.7769\n🎯 Precision (macro)  : 0.1955\n📥 Recall (macro)     : 0.1223\n🏅 F1 Score (macro)   : 0.1363\n🚨 Hamming Loss       : 0.0289\n",
     "output_type": "stream"
    },
    {
     "name": "stderr",
     "text": "\n",
     "output_type": "stream"
    },
    {
     "execution_count": 42,
     "output_type": "execute_result",
     "data": {
      "text/plain": "{'accuracy': 0.9711343196982883,\n 'precision_micro': 0.8720115045838577,\n 'recall_micro': 0.7005054151624549,\n 'f1_micro': 0.7769058295964126,\n 'precision_macro': 0.19547635239423464,\n 'recall_macro': 0.12233300711598381,\n 'f1_macro': 0.13628613958282,\n 'hamming_loss': 0.028865680301711633}"
     },
     "metadata": {}
    }
   ],
   "execution_count": 42
  },
  {
   "cell_type": "code",
   "source": [
    "from sklearn.metrics import classification_report\n",
    "import numpy as np\n",
    "import torch\n",
    "\n",
    "# Run inference on the validation set to get predictions and true labels\n",
    "y_true = []\n",
    "y_pred = []\n",
    "\n",
    "fusion_model.eval()\n",
    "\n",
    "with torch.no_grad():\n",
    "    for batch in tqdm(DataLoader(val_ds, batch_size=8, pin_memory=True, num_workers=2), desc=\"🔍 Predicting\"):\n",
    "        input_ids, attn_mask, front, lat, labels = [b.to(DEVICE) for b in batch]\n",
    "\n",
    "        text_feat = extract_text_features(input_ids, attn_mask)\n",
    "        img_feat = extract_image_features(front, lat)\n",
    "\n",
    "        logits = fusion_model(text_feat, img_feat)\n",
    "        probs = logits.sigmoid().cpu().numpy()\n",
    "        predictions = (probs > 0.5).astype(int)\n",
    "\n",
    "        y_true.extend(labels.cpu().numpy())\n",
    "        y_pred.extend(predictions)\n",
    "\n",
    "# Convert to arrays\n",
    "y_true = np.array(y_true)\n",
    "y_pred = np.array(y_pred)"
   ],
   "metadata": {
    "_uuid": "5e4551fb-4450-47c7-b95a-62b36a43d260",
    "_cell_guid": "4ee63154-3d82-4ca1-81bb-24301fd4e320",
    "trusted": true,
    "collapsed": false,
    "execution": {
     "iopub.status.busy": "2025-04-06T12:03:16.895168Z",
     "iopub.execute_input": "2025-04-06T12:03:16.895492Z",
     "iopub.status.idle": "2025-04-06T12:04:20.322179Z",
     "shell.execute_reply.started": "2025-04-06T12:03:16.895467Z",
     "shell.execute_reply": "2025-04-06T12:04:20.321228Z"
    }
   },
   "outputs": [
    {
     "name": "stderr",
     "text": "🔍 Predicting: 100%|██████████| 96/96 [01:03<00:00,  1.51it/s]\n",
     "output_type": "stream"
    }
   ],
   "execution_count": 43
  },
  {
   "cell_type": "code",
   "source": [
    "from sklearn.metrics import classification_report\n",
    "\n",
    "# `all_terms` must be your sorted list of label names from the dictionary\n",
    "print(classification_report(y_true, y_pred, target_names=all_terms))"
   ],
   "metadata": {
    "_uuid": "0c3d90ff-3497-4512-84bc-f50c92cc737c",
    "_cell_guid": "358175d7-a498-4a6b-b536-89c7c60d5fa5",
    "trusted": true,
    "collapsed": false,
    "execution": {
     "iopub.status.busy": "2025-04-06T12:05:29.520116Z",
     "iopub.execute_input": "2025-04-06T12:05:29.520454Z",
     "iopub.status.idle": "2025-04-06T12:05:29.557250Z",
     "shell.execute_reply.started": "2025-04-06T12:05:29.520429Z",
     "shell.execute_reply": "2025-04-06T12:05:29.556344Z"
    }
   },
   "outputs": [
    {
     "name": "stdout",
     "text": "                                           precision    recall  f1-score   support\n\n                                  abdomen       0.00      0.00      0.00        21\n                           adipose tissue       0.00      0.00      0.00         1\n                         airspace disease       1.00      0.01      0.02       100\n                                    aorta       0.59      0.20      0.30        98\n                          aorta, thoracic       0.00      0.00      0.00        28\n                          aortic aneurysm       0.00      0.00      0.00         0\n                             aortic valve       0.00      0.00      0.00         2\n                                     apex       0.00      0.00      0.00        27\n                                arthritis       0.00      0.00      0.00         3\n                          atherosclerosis       0.00      0.00      0.00         2\n                              azygos lobe       0.00      0.00      0.00         0\n                                     base       0.47      0.10      0.16        91\n                                  blister       0.00      0.00      0.00         0\n                            blood vessels       0.00      0.00      0.00         0\n                           bone and bones       1.00      0.22      0.36        18\n                 bone diseases, metabolic       0.00      0.00      0.00         7\n                                   breast       0.00      0.00      0.00         4\n                                  bronchi       0.00      0.00      0.00         6\n                           bronchiectasis       0.00      0.00      0.00         0\n                            bronchiolitis       0.00      0.00      0.00         1\n                               bronchitis       0.00      0.00      0.00         0\n                        bullous emphysema       0.00      0.00      0.00         0\n                      calcified granuloma       0.55      0.34      0.42        47\n                               calcinosis       0.83      0.64      0.73       134\n                           cardiac shadow       0.67      0.52      0.58       161\n                             cardiomegaly       0.67      0.06      0.12        62\n                      cardiophrenic angle       0.00      0.00      0.00         0\n                               cavitation       0.00      0.00      0.00         2\n                       cervical vertebrae       0.73      0.55      0.62        73\n                           cholelithiasis       0.00      0.00      0.00         0\n                                 cicatrix       0.00      0.00      0.00        50\n                                 clavicle       0.00      0.00      0.00         7\n                    colonic interposition       0.00      0.00      0.00         0\n                            consolidation       0.73      0.41      0.52       249\n                         coronary vessels       0.00      0.00      0.00         0\n                       costophrenic angle       0.00      0.00      0.00         1\n                          cystic fibrosis       0.00      0.00      0.00         1\n                                    cysts       0.00      0.00      0.00         8\n                                deformity       0.00      0.00      0.00         9\n                                  density       0.00      0.00      0.00        22\n                                diaphragm       0.00      0.00      0.00        52\n                diaphragmatic eventration       0.00      0.00      0.00         3\n                             dislocations       0.00      0.00      0.00         2\n                                emphysema       0.00      0.00      0.00        29\n                           epicardial fat       0.00      0.00      0.00         0\n                                esophagus       0.00      0.00      0.00         0\n                   expansile bone lesions       0.00      0.00      0.00         0\n                                 fibrosis       0.00      0.00      0.00         8\n                          fractures, bone       0.40      0.12      0.18        34\n                             funnel chest       0.00      0.00      0.00         0\n                                granuloma       0.89      0.60      0.71        94\n                    granulomatous disease       0.00      0.00      0.00        17\n                                    heart       0.82      0.95      0.88       477\n                              heart atria       0.00      0.00      0.00        12\n                            heart failure       0.00      0.00      0.00         7\n                         heart ventricles       0.00      0.00      0.00         5\n                         hemopneumothorax       0.00      0.00      0.00         0\n                               hemothorax       0.00      0.00      0.00         0\n                    hernia, diaphragmatic       0.00      0.00      0.00         0\n                           hernia, hiatal       0.00      0.00      0.00        10\n                                    hilum       0.00      0.00      0.00         8\n                                  humerus       0.00      0.00      0.00         2\n                        hydropneumothorax       0.00      0.00      0.00         0\nhyperostosis, diffuse idiopathic skeletal       0.00      0.00      0.00         1\n                  hypertension, pulmonary       0.00      0.00      0.00         0\n                              hypovolemia       0.00      0.00      0.00         0\n                               infiltrate       1.00      0.04      0.08        92\n                                 kyphosis       0.00      0.00      0.00         5\n                                  lingula       0.00      0.00      0.00         3\n                               lower lobe       0.00      0.00      0.00        35\n                                  lucency       0.00      0.00      0.00         9\n                         lumbar vertebrae       0.00      0.00      0.00        15\n                                     lung       0.93      1.00      0.96       711\n              lung diseases, interstitial       0.00      0.00      0.00         1\n                        lung, hyperlucent       0.00      0.00      0.00         1\n                              lymph nodes       0.00      0.00      0.00         0\n                                 markings       0.00      0.00      0.00        39\n                                     mass       0.70      0.52      0.59        31\n                               mastectomy       0.00      0.00      0.00         1\n                    mediastinal emphysema       0.00      0.00      0.00         1\n                              mediastinum       0.72      0.60      0.65       127\n                              middle lobe       0.00      0.00      0.00        10\n                             mitral valve       0.00      0.00      0.00         1\n                                     neck       0.00      0.00      0.00         1\n                            nipple shadow       0.00      0.00      0.00         2\n                                   nodule       0.76      0.31      0.44        61\n                                  opacity       0.00      0.00      0.00        92\n                               osteophyte       0.00      0.00      0.00        13\n                             osteoporosis       0.00      0.00      0.00         0\n                         pectus carinatum       0.00      0.00      0.00         0\n                     pericardial effusion       0.98      0.96      0.97       585\n                                   pleura       0.93      0.94      0.94       522\n                         pleural effusion       0.94      0.93      0.94       492\n                            pleural sinus       0.00      0.00      0.00         1\n                            pneumonectomy       0.00      0.00      0.00         1\n                                pneumonia       0.85      0.21      0.33        53\n                         pneumoperitoneum       0.00      0.00      0.00         4\n                             pneumothorax       0.85      0.99      0.92       486\n                        pulmonary alveoli       1.00      0.10      0.18        20\n                         pulmonary artery       0.00      0.00      0.00         2\n                    pulmonary atelectasis       0.85      0.92      0.88       535\n                     pulmonary congestion       0.00      0.00      0.00        15\n   pulmonary disease, chronic obstructive       0.00      0.00      0.00         8\n                          pulmonary edema       1.00      0.09      0.16        46\n                      pulmonary emphysema       0.00      0.00      0.00         0\n                       pulmonary fibrosis       0.00      0.00      0.00         1\n                                     ribs       0.00      0.00      0.00         7\n                              sarcoidosis       0.00      0.00      0.00         3\n                                sclerosis       0.00      0.00      0.00        33\n                                scoliosis       0.00      0.00      0.00        16\n                                    shift       0.00      0.00      0.00         2\n                                 shoulder       0.00      0.00      0.00         8\n                            spinal fusion       0.00      0.00      0.00         2\n                                    spine       0.87      0.73      0.80       133\n                              spondylosis       0.80      0.40      0.53        10\n                                  sternum       0.00      0.00      0.00         2\n                   subcutaneous emphysema       0.00      0.00      0.00         0\n                                   sulcus       0.00      0.00      0.00         7\n                               thickening       0.00      0.00      0.00        13\n                       thoracic vertebrae       0.63      0.44      0.52        70\n                                   thorax       0.86      0.98      0.92       534\n                                  trachea       0.00      0.00      0.00        24\n                          trachea, carina       0.00      0.00      0.00         0\n                             tuberculosis       0.00      0.00      0.00        10\n                               upper lobe       0.00      0.00      0.00        31\n                              volume loss       0.00      0.00      0.00         2\n\n                                micro avg       0.87      0.70      0.78      6925\n                                macro avg       0.19      0.12      0.13      6925\n                             weighted avg       0.76      0.70      0.70      6925\n                              samples avg       0.86      0.72      0.77      6925\n\n",
     "output_type": "stream"
    },
    {
     "name": "stderr",
     "text": "/usr/local/lib/python3.10/dist-packages/sklearn/metrics/_classification.py:1344: UndefinedMetricWarning: Precision and F-score are ill-defined and being set to 0.0 in labels with no predicted samples. Use `zero_division` parameter to control this behavior.\n  _warn_prf(average, modifier, msg_start, len(result))\n/usr/local/lib/python3.10/dist-packages/sklearn/metrics/_classification.py:1344: UndefinedMetricWarning: Recall and F-score are ill-defined and being set to 0.0 in labels with no true samples. Use `zero_division` parameter to control this behavior.\n  _warn_prf(average, modifier, msg_start, len(result))\n/usr/local/lib/python3.10/dist-packages/sklearn/metrics/_classification.py:1344: UndefinedMetricWarning: Precision and F-score are ill-defined and being set to 0.0 in samples with no predicted labels. Use `zero_division` parameter to control this behavior.\n  _warn_prf(average, modifier, msg_start, len(result))\n/usr/local/lib/python3.10/dist-packages/sklearn/metrics/_classification.py:1344: UndefinedMetricWarning: Recall and F-score are ill-defined and being set to 0.0 in samples with no true labels. Use `zero_division` parameter to control this behavior.\n  _warn_prf(average, modifier, msg_start, len(result))\n",
     "output_type": "stream"
    }
   ],
   "execution_count": 44
  },
  {
   "cell_type": "code",
   "source": [
    "from sklearn.metrics import roc_auc_score\n",
    "\n",
    "# Re-run model on val set to collect probabilities (sigmoid outputs)\n",
    "y_true = []\n",
    "fusion_model_outputs = []\n",
    "\n",
    "fusion_model.eval()\n",
    "with torch.no_grad():\n",
    "    for batch in tqdm(DataLoader(val_ds, batch_size=16, pin_memory=True, num_workers=2), desc=\"🔍 Collecting logits\"):\n",
    "        input_ids, attn_mask, front, lat, labels = [b.to(DEVICE) for b in batch]\n",
    "\n",
    "        text_feat = extract_text_features(input_ids, attn_mask)\n",
    "        img_feat = extract_image_features(front, lat)\n",
    "\n",
    "        logits = fusion_model(text_feat, img_feat)\n",
    "        probs = logits.sigmoid().cpu().numpy()\n",
    "\n",
    "        y_true.extend(labels.cpu().numpy())\n",
    "        fusion_model_outputs.extend(probs)\n",
    "\n",
    "# Convert to numpy arrays\n",
    "y_true = np.array(y_true)\n",
    "fusion_model_outputs = np.array(fusion_model_outputs)"
   ],
   "metadata": {
    "_uuid": "837d2032-6f31-4853-8f4c-e19f6c5ce093",
    "_cell_guid": "c79a9408-6860-4477-bde5-74289b0ad8fb",
    "trusted": true,
    "collapsed": false,
    "execution": {
     "iopub.status.busy": "2025-04-06T12:05:36.377049Z",
     "iopub.execute_input": "2025-04-06T12:05:36.377390Z",
     "iopub.status.idle": "2025-04-06T12:06:31.502867Z",
     "shell.execute_reply.started": "2025-04-06T12:05:36.377364Z",
     "shell.execute_reply": "2025-04-06T12:06:31.501968Z"
    }
   },
   "outputs": [
    {
     "name": "stderr",
     "text": "🔍 Collecting logits: 100%|██████████| 48/48 [00:55<00:00,  1.15s/it]\n",
     "output_type": "stream"
    }
   ],
   "execution_count": 45
  },
  {
   "cell_type": "code",
   "source": [
    "from sklearn.metrics import roc_auc_score\n",
    "\n",
    "valid_auc_indices = []\n",
    "auc_scores = []\n",
    "\n",
    "# Loop through each class and calculate ROC AUC if both 0 and 1 exist\n",
    "for i in range(y_true.shape[1]):\n",
    "    if len(np.unique(y_true[:, i])) == 2:\n",
    "        auc = roc_auc_score(y_true[:, i], fusion_model_outputs[:, i])\n",
    "        auc_scores.append(auc)\n",
    "        valid_auc_indices.append(i)\n",
    "\n",
    "# Map back to label names\n",
    "label_aucs = [(all_terms[i], auc_scores[j]) for j, i in enumerate(valid_auc_indices)]\n",
    "\n",
    "# Sort and print top scores\n",
    "label_aucs.sort(key=lambda x: x[1], reverse=True)\n",
    "print(\" Top ROC AUC per class:\")\n",
    "for term, auc in label_aucs[:10]:\n",
    "    print(f\"{term:35s} : {auc:.4f}\")"
   ],
   "metadata": {
    "_uuid": "bdbb47d2-24ef-48eb-a788-b1d8d57027fe",
    "_cell_guid": "e5e691ce-1522-4528-97bd-f7e9703aaee1",
    "trusted": true,
    "collapsed": false,
    "execution": {
     "iopub.status.busy": "2025-04-06T12:06:39.276210Z",
     "iopub.execute_input": "2025-04-06T12:06:39.276520Z",
     "iopub.status.idle": "2025-04-06T12:06:39.423260Z",
     "shell.execute_reply.started": "2025-04-06T12:06:39.276496Z",
     "shell.execute_reply": "2025-04-06T12:06:39.422367Z"
    }
   },
   "outputs": [
    {
     "name": "stdout",
     "text": "📈 Top ROC AUC per class:\nshift                               : 0.9935\npericardial effusion                : 0.9881\natherosclerosis                     : 0.9810\npulmonary fibrosis                  : 0.9804\npleural effusion                    : 0.9751\nspine                               : 0.9747\npulmonary alveoli                   : 0.9699\npneumothorax                        : 0.9699\nnipple shadow                       : 0.9686\npleura                              : 0.9658\n",
     "output_type": "stream"
    }
   ],
   "execution_count": 46
  },
  {
   "cell_type": "code",
   "source": [
    "from sklearn.metrics import multilabel_confusion_matrix\n",
    "import matplotlib.pyplot as plt\n",
    "import seaborn as sns\n",
    "\n",
    "# 1. Threshold model outputs to get binary predictions\n",
    "y_pred = (fusion_model_outputs > 0.5).astype(int)\n",
    "\n",
    "# 2. Compute the multilabel confusion matrix\n",
    "mcm = multilabel_confusion_matrix(y_true, y_pred)\n",
    "\n",
    "# 3. Visualize confusion matrix for selected labels (e.g., top 5 by frequency)\n",
    "top_indices = np.argsort(np.sum(y_true, axis=0))[-5:]  # top 5 most frequent\n",
    "\n",
    "for idx in top_indices:\n",
    "    cm = mcm[idx]\n",
    "    plt.figure(figsize=(4, 3))\n",
    "    sns.heatmap(cm, annot=True, fmt=\"d\", cmap=\"Blues\", cbar=False,\n",
    "                xticklabels=[\"Pred 0\", \"Pred 1\"],\n",
    "                yticklabels=[\"True 0\", \"True 1\"])\n",
    "    plt.title(f\"Confusion Matrix for '{all_terms[idx]}'\")\n",
    "    plt.xlabel(\"Predicted\")\n",
    "    plt.ylabel(\"Actual\")\n",
    "    plt.tight_layout()\n",
    "    plt.show()"
   ],
   "metadata": {
    "_uuid": "d388a271-eb74-434e-8c92-d2cfc9478f50",
    "_cell_guid": "c6f013dd-eea2-4b97-86f7-2e00fdcc40cd",
    "trusted": true,
    "collapsed": false,
    "execution": {
     "iopub.status.busy": "2025-04-06T12:06:54.635417Z",
     "iopub.execute_input": "2025-04-06T12:06:54.635738Z",
     "iopub.status.idle": "2025-04-06T12:06:55.824549Z",
     "shell.execute_reply.started": "2025-04-06T12:06:54.635709Z",
     "shell.execute_reply": "2025-04-06T12:06:55.823518Z"
    }
   },
   "outputs": [
    {
     "output_type": "display_data",
     "data": {
      "text/plain": "<Figure size 400x300 with 1 Axes>",
      "image/png": "[encoded data removed]"
     },
     "metadata": {}
    },
    {
     "output_type": "display_data",
     "data": {
      "text/plain": "<Figure size 400x300 with 1 Axes>",
      "image/png": "[encoded data removed]"
     },
     "metadata": {}
    },
    {
     "output_type": "display_data",
     "data": {
      "text/plain": "<Figure size 400x300 with 1 Axes>",
      "image/png": "[encoded data removed]"
     },
     "metadata": {}
    },
    {
     "output_type": "display_data",
     "data": {
      "text/plain": "<Figure size 400x300 with 1 Axes>",
      "image/png": "[encoded data removed]"
     },
     "metadata": {}
    },
    {
     "output_type": "display_data",
     "data": {
      "text/plain": "<Figure size 400x300 with 1 Axes>",
      "image/png": "[encoded data removed]"
     },
     "metadata": {}
    }
   ],
   "execution_count": 47
  },
  {
   "cell_type": "code",
   "source": [
    "import gradio as gr\n",
    "import torch\n",
    "import traceback\n",
    "import pandas as pd\n",
    "from torchvision import transforms\n",
    "from PIL import Image\n",
    "\n",
    "#  Same preprocessor used during training\n",
    "transform = transforms.Compose([\n",
    "    transforms.Resize((128, 128)),\n",
    "    transforms.ToTensor(),\n",
    "    transforms.Normalize([0.485, 0.456, 0.406], \n",
    "                         [0.229, 0.224, 0.225])\n",
    "])\n",
    "\n",
    "def predict_gui(text, image):\n",
    "    try:\n",
    "        if not text and not image:\n",
    "            return \"No input provided\", [[\"-\", \"-\", \"-\", \"-\"]]\n",
    "        \n",
    "        # Tokenize text\n",
    "        inputs = tokenizer(text or \"\", padding=\"max_length\", truncation=True, max_length=256, return_tensors=\"pt\")\n",
    "        input_ids = inputs[\"input_ids\"].to(DEVICE)\n",
    "        attn_mask = inputs[\"attention_mask\"].to(DEVICE)\n",
    "\n",
    "        # Extract text features\n",
    "        text_feat = extract_text_features(input_ids, attn_mask)\n",
    "\n",
    "        # Extract image features\n",
    "        if image:\n",
    "            if isinstance(image, Image.Image):\n",
    "                img = image.convert(\"RGB\")\n",
    "            else:\n",
    "                img = Image.open(image).convert(\"RGB\")\n",
    "            img_tensor = transform(img).unsqueeze(0).to(DEVICE)\n",
    "            img_feat = model_image(img_tensor)\n",
    "        else:\n",
    "            img_feat = torch.zeros((1, 2048)).to(DEVICE)\n",
    "\n",
    "        # Predict\n",
    "        with torch.no_grad():\n",
    "            logits = fusion_model(text_feat, img_feat)\n",
    "            probs = torch.sigmoid(logits).squeeze().cpu().numpy()\n",
    "\n",
    "        # Map predictions\n",
    "        pred_indices = np.where(probs > 0.5)[0]\n",
    "        pred_terms = [all_terms[i] for i in pred_indices]\n",
    "        confidences = [probs[i] for i in pred_indices]\n",
    "\n",
    "        # Optional term type lookup (can customize)\n",
    "        def get_type(term):\n",
    "            if \"effusion\" in term.lower(): return \"Condition\"\n",
    "            elif \"vertebrae\" in term.lower(): return \"Anatomy\"\n",
    "            elif \"lung\" in term.lower(): return \"Organ\"\n",
    "            elif \"consolidation\" in term.lower(): return \"Finding\"\n",
    "            else: return \"Entity\"\n",
    "\n",
    "        # Prepare table data\n",
    "        table_data = []\n",
    "        for i, term in enumerate(pred_terms):\n",
    "            table_data.append([\n",
    "                term,\n",
    "                get_type(term),\n",
    "                f\"{confidences[i]:.2f}\",\n",
    "                \"Fusion Model\"\n",
    "            ])\n",
    "\n",
    "        # Highlight in text\n",
    "        highlighted = text\n",
    "        for term in sorted(pred_terms, key=len, reverse=True):\n",
    "            if term.lower() in highlighted.lower():\n",
    "                highlighted = highlighted.replace(term, f\"<mark>{term}</mark>\")\n",
    "\n",
    "        return highlighted, table_data\n",
    "\n",
    "    except Exception as e:\n",
    "        print(\"🚨 Error in predict_gui:\", e)\n",
    "        traceback.print_exc()\n",
    "        return \"Prediction Failed\", [[\"-\", \"-\", \"-\", \"-\"]]\n",
    "\n",
    "#  Gradio Interface\n",
    "interface = gr.Interface(\n",
    "    fn=predict_gui,\n",
    "    inputs=[\n",
    "        gr.Textbox(label=\"📋 Radiology Report\", lines=5, placeholder=\"Enter radiology findings or impression...\"),\n",
    "        gr.Image(type=\"pil\", label=\"🩻 X-ray Image (Optional)\")\n",
    "    ],\n",
    "    outputs=[\n",
    "        gr.HTML(label=\"Highlighted Report\"),\n",
    "        gr.Dataframe(\n",
    "            headers=[\"Term\", \"Type\", \"Confidence\", \"Source\"],\n",
    "            datatype=[\"str\", \"str\", \"number\", \"str\"],\n",
    "            label=\"📑 Predicted Biomedical Terms\"\n",
    "        )\n",
    "    ],\n",
    "    title=\"🧠 IntegraBNER - Multimodal Biomedical Named Entity Recognition\",\n",
    "    description=\"Upload a radiology report and/or X-ray image. IntegraBNER highlights relevant biomedical terms using a fusion model.\",\n",
    "    allow_flagging=\"never\",\n",
    "    theme=\"soft\"\n",
    ")\n",
    "\n",
    "interface.launch(debug=True)\n"
   ],
   "metadata": {
    "_uuid": "683d364b-58d6-4a56-8ba8-f6fa94d1922a",
    "_cell_guid": "5fbebf16-8c39-4dc6-b4b5-4e6cbf397d16",
    "trusted": true,
    "collapsed": false,
    "execution": {
     "iopub.status.busy": "2025-04-06T13:48:47.399514Z",
     "iopub.execute_input": "2025-04-06T13:48:47.399813Z"
    }
   },
   "outputs": [
    {
     "name": "stderr",
     "text": "/usr/local/lib/python3.10/dist-packages/gradio/interface.py:415: UserWarning: The `allow_flagging` parameter in `Interface` is deprecated.Use `flagging_mode` instead.\n  warnings.warn(\n",
     "output_type": "stream"
    },
    {
     "name": "stdout",
     "text": "* Running on local URL:  http://127.0.0.1:7860\nKaggle notebooks require sharing enabled. Setting `share=True` (you can turn this off by setting `share=False` in `launch()` explicitly).\n\n* Running on public URL: https://7f5a81ae0b84aca225.gradio.live\n\nThis share link expires in 72 hours. For free permanent hosting and GPU upgrades, run `gradio deploy` from the terminal in the working directory to deploy to Hugging Face Spaces (https://huggingface.co/spaces)\n",
     "output_type": "stream"
    },
    {
     "output_type": "display_data",
     "data": {
      "text/plain": "<IPython.core.display.HTML object>",
      "text/html": "<div><iframe src=\"https://7f5a81ae0b84aca225.gradio.live\" width=\"100%\" height=\"500\" allow=\"autoplay; camera; microphone; clipboard-read; clipboard-write;\" frameborder=\"0\" allowfullscreen></iframe></div>"
     },
     "metadata": {}
    },
    {
     "name": "stdout",
     "text": "Keyboard interruption in main thread... closing server.\nKilling tunnel 127.0.0.1:7860 <> https://7f5a81ae0b84aca225.gradio.live\n",
     "output_type": "stream"
    },
    {
     "execution_count": 57,
     "output_type": "execute_result",
     "data": {
      "text/plain": ""
     },
     "metadata": {}
    }
   ],
   "execution_count": null
  },
  {
   "cell_type": "code",
   "source": [
    "import pandas as pd\n",
    "import json\n",
    "\n",
    "# Load your CSV (update the path if needed)\n",
    "df = pd.read_csv(\"/kaggle/input/labels/term_to_index.csv\")\n",
    "\n",
    "# Convert to list of terms (assuming there's a column like 'term' or similar)\n",
    "terms = df['term'].tolist()  # Replace 'term' with the actual column name if different\n",
    "\n",
    "# Save as labels.json\n",
    "with open(\"labels.json\", \"w\") as f:\n",
    "    json.dump(terms, f, indent=2)\n",
    "\n",
    "print(f\"✅ Saved {len(terms)} labels to labels.json\")\n"
   ],
   "metadata": {
    "_uuid": "11c55e0f-bce7-412d-b74a-13b36742c1c4",
    "_cell_guid": "9c1ddaad-6197-406f-999a-44583c1959e4",
    "trusted": true,
    "collapsed": false,
    "execution": {
     "iopub.status.busy": "2025-04-09T06:38:22.105511Z",
     "iopub.execute_input": "2025-04-09T06:38:22.105869Z",
     "iopub.status.idle": "2025-04-09T06:38:23.038002Z",
     "shell.execute_reply.started": "2025-04-09T06:38:22.105834Z",
     "shell.execute_reply": "2025-04-09T06:38:23.036547Z"
    }
   },
   "outputs": [
    {
     "name": "stdout",
     "text": "✅ Saved 126 labels to labels.json\n",
     "output_type": "stream"
    }
   ],
   "execution_count": 1
  },
  {
   "cell_type": "code",
   "source": [],
   "metadata": {
    "trusted": true
   },
   "outputs": [],
   "execution_count": null
  }
 ]
}
